{
 "cells": [
  {
   "cell_type": "markdown",
   "id": "05b7df4f",
   "metadata": {},
   "source": [
    "# 2/28 checkpoint:\n",
    "\n",
    "1. Data cleaning\n",
    "    - Remove uncensored data (no event yet) -- clinical dataset\n",
    "    - Filter for Morphologic, Intensity, Volumetric (pick 1 MMM…) -- radiomic dataset\n",
    "2. Binary classifier threshold\n",
    "    - Histogram of when patients die --> low vs high severity\n",
    "3. Feature significance\n",
    "    - P-value for each feature \n",
    "    - Covariance: correlation between features "
   ]
  },
  {
   "cell_type": "code",
   "execution_count": 114,
   "id": "af0d3142",
   "metadata": {},
   "outputs": [],
   "source": [
    "import matplotlib.pyplot as plt\n",
    "import numpy as np\n",
    "import pandas as pd\n",
    "import seaborn as sns\n",
    "import statsmodels.api as sm\n",
    "from sklearn import metrics\n",
    "from sklearn.model_selection import train_test_split\n",
    "# from pysurvival.models.simulations import SimulationModel\n",
    "# from pysurvival.models.survival_forest import ConditionalSurvivalForestModel\n",
    "# from pysurvival.utils.metrics import concordance_index\n",
    "# from pysurvival.utils.display import integrated_brier_score\n",
    "import warnings\n",
    "warnings.filterwarnings('ignore')\n",
    "import eli5"
   ]
  },
  {
   "cell_type": "code",
   "execution_count": 115,
   "id": "22f637a5",
   "metadata": {},
   "outputs": [],
   "source": [
    "from pycox.datasets import metabric\n",
    "from pycox.models import MTLR\n",
    "from pycox.evaluation import EvalSurv"
   ]
  },
  {
   "cell_type": "code",
   "execution_count": 116,
   "id": "57fdc08c",
   "metadata": {},
   "outputs": [],
   "source": [
    "# For preprocessing\n",
    "from sklearn.preprocessing import StandardScaler\n",
    "from sklearn_pandas import DataFrameMapper \n",
    "\n",
    "import torch # For building the networks \n",
    "import torchtuples as tt # Some useful functions"
   ]
  },
  {
   "cell_type": "code",
   "execution_count": 407,
   "id": "0e8f97f2",
   "metadata": {},
   "outputs": [],
   "source": [
    "from sklearn.discriminant_analysis import LinearDiscriminantAnalysis as LDA\n",
    "from sklearn.feature_selection import SelectFromModel\n",
    "from sklearn.linear_model import Lasso, LogisticRegression, Ridge\n",
    "from sklearn import linear_model\n",
    "from sklearn.ensemble import GradientBoostingRegressor\n",
    "from feature_engine.selection import RecursiveFeatureElimination\n",
    "from sklearn.ensemble import RandomForestClassifier\n",
    "from sklearn.feature_selection import SelectFromModel"
   ]
  },
  {
   "cell_type": "code",
   "execution_count": 113,
   "id": "618dc570",
   "metadata": {},
   "outputs": [],
   "source": [
    "from sklearn.discriminant_analysis import LinearDiscriminantAnalysis as LDA"
   ]
  },
  {
   "cell_type": "code",
   "execution_count": 322,
   "id": "e0e4b0bb",
   "metadata": {},
   "outputs": [],
   "source": [
    "from sklearn.manifold import TSNE\n",
    "from sklearn.decomposition import PCA"
   ]
  },
  {
   "cell_type": "code",
   "execution_count": 5,
   "id": "650d8bc8",
   "metadata": {},
   "outputs": [],
   "source": [
    "np.random.seed(1234)\n",
    "_ = torch.manual_seed(123)"
   ]
  },
  {
   "cell_type": "code",
   "execution_count": 118,
   "id": "44164308",
   "metadata": {},
   "outputs": [],
   "source": [
    "# read in data\n",
    "clin_data = pd.read_csv(\"UPENN-GBM_clinical_info_v1.0.csv\")\n",
    "rad_data = pd.read_csv(\"radiomic_features_CaPTk/Radiomic_Features_CaPTk_automaticsegm_DSC_ap-rCBV_ED.csv\") # only 1 for now\n",
    "rad_data = rad_data.rename(columns={\"SubjectID\": \"ID\"})\n"
   ]
  },
  {
   "cell_type": "markdown",
   "id": "a38bbaf6",
   "metadata": {},
   "source": [
    "## Data cleaning (clin):"
   ]
  },
  {
   "cell_type": "code",
   "execution_count": 119,
   "id": "624c5139",
   "metadata": {},
   "outputs": [],
   "source": [
    "# remove uncensored data\n",
    "clean_clin = clin_data[clin_data.Survival_from_surgery_days != \"Not Available\"] # 671 --> 452 rows\n",
    "\n",
    "# features: (ID), Gender, Age, Survival, IDH1, GTR, Time\n",
    "clinical = clean_clin[[\"ID\", \"Gender\", \"Age_at_scan_years\", \"Survival_from_surgery_days\", \"IDH1\", \"GTR_over90percent\", \"Time_since_baseline_preop\"]]\n",
    "clinical = clinical[clin_data.GTR_over90percent != \"Not Available\"] # 452 --> 424 rows\n",
    "clinical = clinical[clin_data.Time_since_baseline_preop != \"Not Available\"] # ? final rows\n",
    "\n",
    "\n",
    "clin_res = clinical.reset_index(drop = True)\n",
    "clin_res['Survival_from_surgery_days'] = clin_res['Survival_from_surgery_days'].astype('int')\n",
    "clin_res['Time_since_baseline_preop'] = clin_res['Time_since_baseline_preop'].astype('int')"
   ]
  },
  {
   "cell_type": "code",
   "execution_count": 8,
   "id": "cfc8a153",
   "metadata": {},
   "outputs": [
    {
     "data": {
      "text/html": [
       "<div>\n",
       "<style scoped>\n",
       "    .dataframe tbody tr th:only-of-type {\n",
       "        vertical-align: middle;\n",
       "    }\n",
       "\n",
       "    .dataframe tbody tr th {\n",
       "        vertical-align: top;\n",
       "    }\n",
       "\n",
       "    .dataframe thead th {\n",
       "        text-align: right;\n",
       "    }\n",
       "</style>\n",
       "<table border=\"1\" class=\"dataframe\">\n",
       "  <thead>\n",
       "    <tr style=\"text-align: right;\">\n",
       "      <th></th>\n",
       "      <th>ID</th>\n",
       "      <th>Gender</th>\n",
       "      <th>Age_at_scan_years</th>\n",
       "      <th>Survival_from_surgery_days</th>\n",
       "      <th>IDH1</th>\n",
       "      <th>GTR_over90percent</th>\n",
       "      <th>Time_since_baseline_preop</th>\n",
       "    </tr>\n",
       "  </thead>\n",
       "  <tbody>\n",
       "    <tr>\n",
       "      <th>0</th>\n",
       "      <td>UPENN-GBM-00002_11</td>\n",
       "      <td>F</td>\n",
       "      <td>61.30</td>\n",
       "      <td>291</td>\n",
       "      <td>Wildtype</td>\n",
       "      <td>Y</td>\n",
       "      <td>0</td>\n",
       "    </tr>\n",
       "    <tr>\n",
       "      <th>1</th>\n",
       "      <td>UPENN-GBM-00006_11</td>\n",
       "      <td>M</td>\n",
       "      <td>52.99</td>\n",
       "      <td>626</td>\n",
       "      <td>Wildtype</td>\n",
       "      <td>Y</td>\n",
       "      <td>0</td>\n",
       "    </tr>\n",
       "    <tr>\n",
       "      <th>2</th>\n",
       "      <td>UPENN-GBM-00008_11</td>\n",
       "      <td>F</td>\n",
       "      <td>55.06</td>\n",
       "      <td>469</td>\n",
       "      <td>Wildtype</td>\n",
       "      <td>Y</td>\n",
       "      <td>0</td>\n",
       "    </tr>\n",
       "    <tr>\n",
       "      <th>3</th>\n",
       "      <td>UPENN-GBM-00009_11</td>\n",
       "      <td>M</td>\n",
       "      <td>69.12</td>\n",
       "      <td>561</td>\n",
       "      <td>Wildtype</td>\n",
       "      <td>Y</td>\n",
       "      <td>0</td>\n",
       "    </tr>\n",
       "    <tr>\n",
       "      <th>4</th>\n",
       "      <td>UPENN-GBM-00011_11</td>\n",
       "      <td>F</td>\n",
       "      <td>39.61</td>\n",
       "      <td>798</td>\n",
       "      <td>NOS/NEC</td>\n",
       "      <td>Y</td>\n",
       "      <td>0</td>\n",
       "    </tr>\n",
       "    <tr>\n",
       "      <th>...</th>\n",
       "      <td>...</td>\n",
       "      <td>...</td>\n",
       "      <td>...</td>\n",
       "      <td>...</td>\n",
       "      <td>...</td>\n",
       "      <td>...</td>\n",
       "      <td>...</td>\n",
       "    </tr>\n",
       "    <tr>\n",
       "      <th>419</th>\n",
       "      <td>UPENN-GBM-00593_11</td>\n",
       "      <td>M</td>\n",
       "      <td>57.82</td>\n",
       "      <td>223</td>\n",
       "      <td>Wildtype</td>\n",
       "      <td>N</td>\n",
       "      <td>0</td>\n",
       "    </tr>\n",
       "    <tr>\n",
       "      <th>420</th>\n",
       "      <td>UPENN-GBM-00597_11</td>\n",
       "      <td>F</td>\n",
       "      <td>61.92</td>\n",
       "      <td>381</td>\n",
       "      <td>Wildtype</td>\n",
       "      <td>Y</td>\n",
       "      <td>0</td>\n",
       "    </tr>\n",
       "    <tr>\n",
       "      <th>421</th>\n",
       "      <td>UPENN-GBM-00601_11</td>\n",
       "      <td>M</td>\n",
       "      <td>59.69</td>\n",
       "      <td>435</td>\n",
       "      <td>Wildtype</td>\n",
       "      <td>Y</td>\n",
       "      <td>0</td>\n",
       "    </tr>\n",
       "    <tr>\n",
       "      <th>422</th>\n",
       "      <td>UPENN-GBM-00609_11</td>\n",
       "      <td>M</td>\n",
       "      <td>29.01</td>\n",
       "      <td>138</td>\n",
       "      <td>Wildtype</td>\n",
       "      <td>N</td>\n",
       "      <td>0</td>\n",
       "    </tr>\n",
       "    <tr>\n",
       "      <th>423</th>\n",
       "      <td>UPENN-GBM-00611_11</td>\n",
       "      <td>M</td>\n",
       "      <td>58.09</td>\n",
       "      <td>551</td>\n",
       "      <td>Wildtype</td>\n",
       "      <td>N</td>\n",
       "      <td>0</td>\n",
       "    </tr>\n",
       "  </tbody>\n",
       "</table>\n",
       "<p>424 rows × 7 columns</p>\n",
       "</div>"
      ],
      "text/plain": [
       "                     ID Gender  Age_at_scan_years  Survival_from_surgery_days  \\\n",
       "0    UPENN-GBM-00002_11      F              61.30                         291   \n",
       "1    UPENN-GBM-00006_11      M              52.99                         626   \n",
       "2    UPENN-GBM-00008_11      F              55.06                         469   \n",
       "3    UPENN-GBM-00009_11      M              69.12                         561   \n",
       "4    UPENN-GBM-00011_11      F              39.61                         798   \n",
       "..                  ...    ...                ...                         ...   \n",
       "419  UPENN-GBM-00593_11      M              57.82                         223   \n",
       "420  UPENN-GBM-00597_11      F              61.92                         381   \n",
       "421  UPENN-GBM-00601_11      M              59.69                         435   \n",
       "422  UPENN-GBM-00609_11      M              29.01                         138   \n",
       "423  UPENN-GBM-00611_11      M              58.09                         551   \n",
       "\n",
       "         IDH1 GTR_over90percent  Time_since_baseline_preop  \n",
       "0    Wildtype                 Y                          0  \n",
       "1    Wildtype                 Y                          0  \n",
       "2    Wildtype                 Y                          0  \n",
       "3    Wildtype                 Y                          0  \n",
       "4     NOS/NEC                 Y                          0  \n",
       "..        ...               ...                        ...  \n",
       "419  Wildtype                 N                          0  \n",
       "420  Wildtype                 Y                          0  \n",
       "421  Wildtype                 Y                          0  \n",
       "422  Wildtype                 N                          0  \n",
       "423  Wildtype                 N                          0  \n",
       "\n",
       "[424 rows x 7 columns]"
      ]
     },
     "execution_count": 8,
     "metadata": {},
     "output_type": "execute_result"
    }
   ],
   "source": [
    "clin_res"
   ]
  },
  {
   "cell_type": "code",
   "execution_count": 120,
   "id": "4c613b2d",
   "metadata": {},
   "outputs": [],
   "source": [
    "comb_data = clin_res.merge(rad_data, how = 'inner', on = ['ID'])"
   ]
  },
  {
   "cell_type": "markdown",
   "id": "a085377a",
   "metadata": {},
   "source": [
    "## Severity threshold (clin):"
   ]
  },
  {
   "cell_type": "code",
   "execution_count": 10,
   "id": "654b4abc",
   "metadata": {},
   "outputs": [
    {
     "data": {
      "image/png": "[encoded data removed]",
      "text/plain": [
       "<Figure size 432x288 with 1 Axes>"
      ]
     },
     "metadata": {
      "needs_background": "light"
     },
     "output_type": "display_data"
    }
   ],
   "source": [
    "# Histogram of survival_from_surgery_days\n",
    "plt.hist(clin_res['Survival_from_surgery_days'], alpha=1, label='default')\n",
    "plt.hist(clin_res['Survival_from_surgery_days'], bins=2, alpha=0.1, label='2 bins')\n",
    "\n",
    "# find a threshold that splits the data evenly\n",
    "avg_days = np.mean(clin_res['Survival_from_surgery_days'])\n",
    "plt.axvline(x = avg_days, color = \"black\", linestyle = '--', label = 'average')\n",
    "\n",
    "plt.legend(loc='upper right')\n",
    "plt.title(\"Survival_from_surgery_days\")\n",
    "plt.xlabel(\"days\")\n",
    "plt.ylabel(\"count\")\n",
    "plt.show()"
   ]
  },
  {
   "cell_type": "code",
   "execution_count": 121,
   "id": "8b083073",
   "metadata": {},
   "outputs": [],
   "source": [
    "# add a class that indicates whether patient is low or high severity based on average threshold\n",
    "clin_res['severity_class'] = np.where(clin_res['Survival_from_surgery_days'] >= avg_days, 'low', 'high')"
   ]
  },
  {
   "cell_type": "markdown",
   "id": "fd56cc56",
   "metadata": {},
   "source": [
    "## Feature exploration (clin):"
   ]
  },
  {
   "cell_type": "markdown",
   "id": "6c2ed328",
   "metadata": {},
   "source": [
    "### P-value"
   ]
  },
  {
   "cell_type": "code",
   "execution_count": 67,
   "id": "a54ad112",
   "metadata": {},
   "outputs": [
    {
     "data": {
      "text/html": [
       "<div>\n",
       "<style scoped>\n",
       "    .dataframe tbody tr th:only-of-type {\n",
       "        vertical-align: middle;\n",
       "    }\n",
       "\n",
       "    .dataframe tbody tr th {\n",
       "        vertical-align: top;\n",
       "    }\n",
       "\n",
       "    .dataframe thead th {\n",
       "        text-align: right;\n",
       "    }\n",
       "</style>\n",
       "<table border=\"1\" class=\"dataframe\">\n",
       "  <thead>\n",
       "    <tr style=\"text-align: right;\">\n",
       "      <th></th>\n",
       "      <th>ID</th>\n",
       "      <th>Gender</th>\n",
       "      <th>Age_at_scan_years</th>\n",
       "      <th>Survival_from_surgery_days</th>\n",
       "      <th>IDH1</th>\n",
       "      <th>GTR_over90percent</th>\n",
       "      <th>Time_since_baseline_preop</th>\n",
       "    </tr>\n",
       "  </thead>\n",
       "  <tbody>\n",
       "    <tr>\n",
       "      <th>0</th>\n",
       "      <td>0</td>\n",
       "      <td>0</td>\n",
       "      <td>61.30</td>\n",
       "      <td>291</td>\n",
       "      <td>0</td>\n",
       "      <td>0</td>\n",
       "      <td>0</td>\n",
       "    </tr>\n",
       "    <tr>\n",
       "      <th>1</th>\n",
       "      <td>1</td>\n",
       "      <td>1</td>\n",
       "      <td>52.99</td>\n",
       "      <td>626</td>\n",
       "      <td>0</td>\n",
       "      <td>0</td>\n",
       "      <td>0</td>\n",
       "    </tr>\n",
       "    <tr>\n",
       "      <th>2</th>\n",
       "      <td>2</td>\n",
       "      <td>0</td>\n",
       "      <td>55.06</td>\n",
       "      <td>469</td>\n",
       "      <td>0</td>\n",
       "      <td>0</td>\n",
       "      <td>0</td>\n",
       "    </tr>\n",
       "    <tr>\n",
       "      <th>3</th>\n",
       "      <td>3</td>\n",
       "      <td>1</td>\n",
       "      <td>69.12</td>\n",
       "      <td>561</td>\n",
       "      <td>0</td>\n",
       "      <td>0</td>\n",
       "      <td>0</td>\n",
       "    </tr>\n",
       "    <tr>\n",
       "      <th>4</th>\n",
       "      <td>4</td>\n",
       "      <td>0</td>\n",
       "      <td>39.61</td>\n",
       "      <td>798</td>\n",
       "      <td>1</td>\n",
       "      <td>0</td>\n",
       "      <td>0</td>\n",
       "    </tr>\n",
       "    <tr>\n",
       "      <th>...</th>\n",
       "      <td>...</td>\n",
       "      <td>...</td>\n",
       "      <td>...</td>\n",
       "      <td>...</td>\n",
       "      <td>...</td>\n",
       "      <td>...</td>\n",
       "      <td>...</td>\n",
       "    </tr>\n",
       "    <tr>\n",
       "      <th>419</th>\n",
       "      <td>419</td>\n",
       "      <td>1</td>\n",
       "      <td>57.82</td>\n",
       "      <td>223</td>\n",
       "      <td>0</td>\n",
       "      <td>1</td>\n",
       "      <td>0</td>\n",
       "    </tr>\n",
       "    <tr>\n",
       "      <th>420</th>\n",
       "      <td>420</td>\n",
       "      <td>0</td>\n",
       "      <td>61.92</td>\n",
       "      <td>381</td>\n",
       "      <td>0</td>\n",
       "      <td>0</td>\n",
       "      <td>0</td>\n",
       "    </tr>\n",
       "    <tr>\n",
       "      <th>421</th>\n",
       "      <td>421</td>\n",
       "      <td>1</td>\n",
       "      <td>59.69</td>\n",
       "      <td>435</td>\n",
       "      <td>0</td>\n",
       "      <td>0</td>\n",
       "      <td>0</td>\n",
       "    </tr>\n",
       "    <tr>\n",
       "      <th>422</th>\n",
       "      <td>422</td>\n",
       "      <td>1</td>\n",
       "      <td>29.01</td>\n",
       "      <td>138</td>\n",
       "      <td>0</td>\n",
       "      <td>1</td>\n",
       "      <td>0</td>\n",
       "    </tr>\n",
       "    <tr>\n",
       "      <th>423</th>\n",
       "      <td>423</td>\n",
       "      <td>1</td>\n",
       "      <td>58.09</td>\n",
       "      <td>551</td>\n",
       "      <td>0</td>\n",
       "      <td>1</td>\n",
       "      <td>0</td>\n",
       "    </tr>\n",
       "  </tbody>\n",
       "</table>\n",
       "<p>424 rows × 7 columns</p>\n",
       "</div>"
      ],
      "text/plain": [
       "      ID  Gender  Age_at_scan_years  Survival_from_surgery_days  IDH1  \\\n",
       "0      0       0              61.30                         291     0   \n",
       "1      1       1              52.99                         626     0   \n",
       "2      2       0              55.06                         469     0   \n",
       "3      3       1              69.12                         561     0   \n",
       "4      4       0              39.61                         798     1   \n",
       "..   ...     ...                ...                         ...   ...   \n",
       "419  419       1              57.82                         223     0   \n",
       "420  420       0              61.92                         381     0   \n",
       "421  421       1              59.69                         435     0   \n",
       "422  422       1              29.01                         138     0   \n",
       "423  423       1              58.09                         551     0   \n",
       "\n",
       "     GTR_over90percent  Time_since_baseline_preop  \n",
       "0                    0                          0  \n",
       "1                    0                          0  \n",
       "2                    0                          0  \n",
       "3                    0                          0  \n",
       "4                    0                          0  \n",
       "..                 ...                        ...  \n",
       "419                  1                          0  \n",
       "420                  0                          0  \n",
       "421                  0                          0  \n",
       "422                  1                          0  \n",
       "423                  1                          0  \n",
       "\n",
       "[424 rows x 7 columns]"
      ]
     },
     "execution_count": 67,
     "metadata": {},
     "output_type": "execute_result"
    }
   ],
   "source": [
    "cat_columns = clin_res.select_dtypes(['object']).columns\n",
    "clin_res[cat_columns] = clin_res[cat_columns].apply(lambda x: pd.factorize(x)[0])\n",
    "clin_res"
   ]
  },
  {
   "cell_type": "code",
   "execution_count": 13,
   "id": "e9b1e74b",
   "metadata": {},
   "outputs": [
    {
     "name": "stdout",
     "output_type": "stream",
     "text": [
      "                            OLS Regression Results                            \n",
      "==============================================================================\n",
      "Dep. Variable:         severity_class   R-squared:                       1.000\n",
      "Model:                            OLS   Adj. R-squared:                  1.000\n",
      "Method:                 Least Squares   F-statistic:                 2.507e+30\n",
      "Date:                Wed, 12 Apr 2023   Prob (F-statistic):               0.00\n",
      "Time:                        20:35:53   Log-Likelihood:                 13638.\n",
      "No. Observations:                 424   AIC:                        -2.726e+04\n",
      "Df Residuals:                     417   BIC:                        -2.723e+04\n",
      "Df Model:                           6                                         \n",
      "Covariance Type:            nonrobust                                         \n",
      "==============================================================================================\n",
      "                                 coef    std err          t      P>|t|      [0.025      0.975]\n",
      "----------------------------------------------------------------------------------------------\n",
      "const                      -6.939e-17   8.14e-16     -0.085      0.932   -1.67e-15    1.53e-15\n",
      "Gender                     -2.429e-16   2.61e-16     -0.929      0.353   -7.57e-16    2.71e-16\n",
      "Age_at_scan_years          -3.979e-17   1.12e-17     -3.560      0.000   -6.18e-17   -1.78e-17\n",
      "Survival_from_surgery_days  1.328e-18   5.48e-19      2.424      0.016    2.51e-19    2.41e-18\n",
      "IDH1                       -1.665e-16   3.21e-16     -0.518      0.604   -7.98e-16    4.65e-16\n",
      "GTR_over90percent          -4.181e-16    2.7e-16     -1.550      0.122   -9.48e-16    1.12e-16\n",
      "Time_since_baseline_preop           0          0        nan        nan           0           0\n",
      "severity_class                 1.0000   3.82e-16   2.61e+15      0.000       1.000       1.000\n",
      "==============================================================================\n",
      "Omnibus:                       56.302   Durbin-Watson:                   0.162\n",
      "Prob(Omnibus):                  0.000   Jarque-Bera (JB):               92.967\n",
      "Skew:                          -0.817   Prob(JB):                     6.49e-21\n",
      "Kurtosis:                       4.611   Cond. No.                          inf\n",
      "==============================================================================\n",
      "\n",
      "Notes:\n",
      "[1] Standard Errors assume that the covariance matrix of the errors is correctly specified.\n",
      "[2] The smallest eigenvalue is      0. This might indicate that there are\n",
      "strong multicollinearity problems or that the design matrix is singular.\n"
     ]
    }
   ],
   "source": [
    "# p value for each feature\n",
    "x = clin_res[clin_res.columns[clin_res.columns != 'severity_class']] # use as target\n",
    "x = clin_res[clin_res.columns[clin_res.columns != 'ID']] # not a feature\n",
    "y = clin_res.severity_class \n",
    " \n",
    "# Statsmodels.OLS requires us to add a constant.\n",
    "x = sm.add_constant(x)\n",
    "model = sm.OLS(y, x)\n",
    "results = model.fit()\n",
    "print(results.summary()) # Age & Survival from surgery days are only significant categories (p < 0.05)"
   ]
  },
  {
   "cell_type": "markdown",
   "id": "cc0287f5",
   "metadata": {},
   "source": [
    "### Feature correlation (clin)"
   ]
  },
  {
   "cell_type": "code",
   "execution_count": 68,
   "id": "402bcfef",
   "metadata": {},
   "outputs": [],
   "source": [
    "x_conf = x[['Gender', 'Age_at_scan_years', 'Survival_from_surgery_days', 'IDH1', 'GTR_over90percent', 'severity_class']]"
   ]
  },
  {
   "cell_type": "code",
   "execution_count": 15,
   "id": "788183ce",
   "metadata": {},
   "outputs": [
    {
     "data": {
      "text/plain": [
       "<Axes: >"
      ]
     },
     "execution_count": 15,
     "metadata": {},
     "output_type": "execute_result"
    },
    {
     "data": {
      "image/png": "[encoded data removed]",
      "text/plain": [
       "<Figure size 432x288 with 2 Axes>"
      ]
     },
     "metadata": {
      "needs_background": "light"
     },
     "output_type": "display_data"
    }
   ],
   "source": [
    "# should not use features highly correlated with each other in same model\n",
    "sns.heatmap(x_conf.corr(),annot=True, cmap = 'RdBu')"
   ]
  },
  {
   "cell_type": "code",
   "execution_count": 16,
   "id": "b94305a9",
   "metadata": {},
   "outputs": [
    {
     "data": {
      "text/plain": [
       "Survival_from_surgery_days  Age_at_scan_years            -0.279543\n",
       "Age_at_scan_years           Survival_from_surgery_days   -0.279543\n",
       "severity_class              Age_at_scan_years            -0.265800\n",
       "Age_at_scan_years           severity_class               -0.265800\n",
       "severity_class              GTR_over90percent            -0.204816\n",
       "GTR_over90percent           severity_class               -0.204816\n",
       "Survival_from_surgery_days  GTR_over90percent            -0.192972\n",
       "GTR_over90percent           Survival_from_surgery_days   -0.192972\n",
       "IDH1                        GTR_over90percent            -0.094998\n",
       "GTR_over90percent           IDH1                         -0.094998\n",
       "IDH1                        Gender                       -0.058232\n",
       "Gender                      IDH1                         -0.058232\n",
       "IDH1                        severity_class               -0.057471\n",
       "severity_class              IDH1                         -0.057471\n",
       "Gender                      Age_at_scan_years            -0.055514\n",
       "Age_at_scan_years           Gender                       -0.055514\n",
       "IDH1                        Survival_from_surgery_days   -0.038579\n",
       "Survival_from_surgery_days  IDH1                         -0.038579\n",
       "Age_at_scan_years           IDH1                         -0.033292\n",
       "IDH1                        Age_at_scan_years            -0.033292\n",
       "Gender                      Survival_from_surgery_days   -0.001490\n",
       "Survival_from_surgery_days  Gender                       -0.001490\n",
       "Gender                      severity_class                0.006995\n",
       "severity_class              Gender                        0.006995\n",
       "Gender                      GTR_over90percent             0.039485\n",
       "GTR_over90percent           Gender                        0.039485\n",
       "                            Age_at_scan_years             0.139989\n",
       "Age_at_scan_years           GTR_over90percent             0.139989\n",
       "Survival_from_surgery_days  severity_class                0.732450\n",
       "severity_class              Survival_from_surgery_days    0.732450\n",
       "Gender                      Gender                        1.000000\n",
       "IDH1                        IDH1                          1.000000\n",
       "Survival_from_surgery_days  Survival_from_surgery_days    1.000000\n",
       "Age_at_scan_years           Age_at_scan_years             1.000000\n",
       "GTR_over90percent           GTR_over90percent             1.000000\n",
       "severity_class              severity_class                1.000000\n",
       "dtype: float64"
      ]
     },
     "execution_count": 16,
     "metadata": {},
     "output_type": "execute_result"
    }
   ],
   "source": [
    "x_conf.corr().unstack().sort_values(kind=\"quicksort\") "
   ]
  },
  {
   "cell_type": "markdown",
   "id": "fe4f4dea",
   "metadata": {},
   "source": [
    "TODO:\n",
    "- (Filter for Morphologic, Intensity, Volumetric (pick 1 MMM…) -- radiomic dataset)"
   ]
  },
  {
   "cell_type": "markdown",
   "id": "5963d510",
   "metadata": {},
   "source": [
    "# TO DO:\n",
    "1. rerun test w/ radiomics data (select m features from n features --> use N-MTLR to compare accuracies)\n",
    "2. SVD (follow GitHub example)\n",
    "3. conditional survival forest (time/cost, metric - DL divergence, number of features selected, AUC)\n",
    "Notes: keep time as variable when training\n",
    "\n",
    "# Tue, 4/11:\n",
    "1. train N-MTLR model on all data vs. on t-test selected features (compare performance & time)\n",
    "2. start SVD exploration"
   ]
  },
  {
   "cell_type": "markdown",
   "id": "a999d99f",
   "metadata": {},
   "source": [
    "### N-MTLR"
   ]
  },
  {
   "cell_type": "code",
   "execution_count": 17,
   "id": "0216b417",
   "metadata": {},
   "outputs": [],
   "source": [
    "# comb_data.to_csv('all_features.csv')"
   ]
  },
  {
   "cell_type": "markdown",
   "id": "efd7b5c0",
   "metadata": {},
   "source": [
    "## FEATURE SELECTION ALGORITHMS"
   ]
  },
  {
   "cell_type": "markdown",
   "id": "bd358e55",
   "metadata": {},
   "source": [
    "1. Filter:\n",
    "- t-test (DONE)\n",
    "\n",
    "2. Wrapper:\n",
    "- Recursive feature elimination (DONE)\n",
    "- Sequential forward selection (DONE)\n",
    "\n",
    "3. Embedded:\n",
    "- Lasso (DONE)\n",
    "- Tree (DONE)\n",
    "- Ridge (DONE)\n",
    "- SVM (DONE)\n",
    "\n",
    "4. All variables - no selection (DONE)"
   ]
  },
  {
   "cell_type": "code",
   "execution_count": 307,
   "id": "a6949f5b",
   "metadata": {},
   "outputs": [],
   "source": [
    "comb_data_new = comb_data.dropna(axis=0) # remove any rows with NAN\n",
    "comb_data_new = comb_data_new.set_index('ID') # make ID index"
   ]
  },
  {
   "cell_type": "code",
   "execution_count": 308,
   "id": "24914c65",
   "metadata": {},
   "outputs": [],
   "source": [
    "# convert categorical columns to numerical\n",
    "cat_columns = comb_data_new.select_dtypes(['object']).columns\n",
    "comb_data_new[cat_columns] = comb_data_new[cat_columns].apply(lambda x: pd.factorize(x)[0])"
   ]
  },
  {
   "cell_type": "code",
   "execution_count": 124,
   "id": "e9371a58",
   "metadata": {},
   "outputs": [],
   "source": [
    "features = comb_data_new.loc[:, comb_data_new.columns != \"Survival_from_surgery_days\"]\n",
    "target = comb_data_new['Survival_from_surgery_days']"
   ]
  },
  {
   "cell_type": "code",
   "execution_count": 125,
   "id": "350d028c",
   "metadata": {},
   "outputs": [],
   "source": [
    "X_train, X_test, y_train, y_test = train_test_split(features, target, random_state=0)"
   ]
  },
  {
   "cell_type": "markdown",
   "id": "7ebc99ca",
   "metadata": {},
   "source": [
    "# WRAPPER:"
   ]
  },
  {
   "cell_type": "markdown",
   "id": "3825956a",
   "metadata": {},
   "source": [
    "### Recursive feature elimination:"
   ]
  },
  {
   "cell_type": "code",
   "execution_count": 80,
   "id": "01690d20",
   "metadata": {},
   "outputs": [
    {
     "data": {
      "text/plain": [
       "DSC_ap-rCBV_ED_GLSZM_Bins-16_Radius-1_GreyLevelNonUniformity    0.038182\n",
       "DSC_ap-rCBV_ED_Intensity_CoefficientOfVariation                 0.043069\n",
       "DSC_ap-rCBV_ED_GLSZM_Bins-16_Radius-1_ZoneSizeNonUniformity     0.045662\n",
       "DSC_ap-rCBV_ED_Morphologic_EquivalentSphericalRadius            0.046481\n",
       "DSC_ap-rCBV_ED_Histogram_Bins-16_Bins-16_Bin-15_Probability     0.048436\n",
       "DSC_ap-rCBV_ED_GLRLM_Bins-16_Radius-1_LongRunEmphasis           0.065915\n",
       "DSC_ap-rCBV_ED_Intensity_Median                                 0.067031\n",
       "DSC_ap-rCBV_ED_Histogram_Bins-16_Bins-16_Bin-0_Frequency        0.117428\n",
       "Age_at_scan_years                                               0.239733\n",
       "dtype: float64"
      ]
     },
     "execution_count": 80,
     "metadata": {},
     "output_type": "execute_result"
    }
   ],
   "source": [
    "model = GradientBoostingRegressor(\n",
    "    n_estimators=5,\n",
    "    random_state=10,\n",
    ")\n",
    "\n",
    "RFE_model = RecursiveFeatureElimination(\n",
    "    estimator = model, # the ML model\n",
    "    scoring = 'r2', \n",
    "    threshold = 0.05, \n",
    "    cv=2,\n",
    ")\n",
    "\n",
    "RFE_model.fit(X_train, y_train)\n",
    "\n",
    "RFE_model.feature_importances_[140:149]"
   ]
  },
  {
   "cell_type": "markdown",
   "id": "9498546e",
   "metadata": {},
   "source": [
    "### Sequential forward selection:"
   ]
  },
  {
   "cell_type": "code",
   "execution_count": 414,
   "id": "5e0d4692",
   "metadata": {},
   "outputs": [],
   "source": [
    "from sklearn.neighbors import KNeighborsClassifier\n",
    "from mlxtend.feature_selection import SequentialFeatureSelector as SFS"
   ]
  },
  {
   "cell_type": "code",
   "execution_count": 415,
   "id": "45119759",
   "metadata": {},
   "outputs": [],
   "source": [
    "knn = KNeighborsClassifier(n_neighbors=4)"
   ]
  },
  {
   "cell_type": "code",
   "execution_count": 416,
   "id": "586b1469",
   "metadata": {},
   "outputs": [
    {
     "name": "stderr",
     "output_type": "stream",
     "text": [
      "[Parallel(n_jobs=1)]: Using backend SequentialBackend with 1 concurrent workers.\n",
      "[Parallel(n_jobs=1)]: Done   1 out of   1 | elapsed:    0.0s remaining:    0.0s\n",
      "[Parallel(n_jobs=1)]: Done 149 out of 149 | elapsed:    0.7s finished\n",
      "\n",
      "[2023-04-20 22:59:36] Features: 1/3 -- score: 0.28448275862068967[Parallel(n_jobs=1)]: Using backend SequentialBackend with 1 concurrent workers.\n",
      "[Parallel(n_jobs=1)]: Done   1 out of   1 | elapsed:    0.0s remaining:    0.0s\n",
      "[Parallel(n_jobs=1)]: Done 148 out of 148 | elapsed:    0.7s finished\n",
      "\n",
      "[2023-04-20 22:59:37] Features: 2/3 -- score: 0.28448275862068967[Parallel(n_jobs=1)]: Using backend SequentialBackend with 1 concurrent workers.\n",
      "[Parallel(n_jobs=1)]: Done   1 out of   1 | elapsed:    0.0s remaining:    0.0s\n",
      "[Parallel(n_jobs=1)]: Done 147 out of 147 | elapsed:    0.7s finished\n",
      "\n",
      "[2023-04-20 22:59:38] Features: 3/3 -- score: 0.28448275862068967"
     ]
    }
   ],
   "source": [
    "sfs1 = SFS(knn, \n",
    "           k_features=3, \n",
    "           forward=True, \n",
    "           floating=False, \n",
    "           verbose=2,\n",
    "           scoring='accuracy',\n",
    "           cv=0)\n",
    "\n",
    "sfs1 = sfs1.fit(X_train, y_train)"
   ]
  },
  {
   "cell_type": "code",
   "execution_count": 417,
   "id": "f73c6e80",
   "metadata": {},
   "outputs": [
    {
     "data": {
      "text/plain": [
       "('Gender', 'Age_at_scan_years', 'DSC_ap-rCBV_ED_Intensity_Sum')"
      ]
     },
     "execution_count": 417,
     "metadata": {},
     "output_type": "execute_result"
    }
   ],
   "source": [
    "sfs1.k_feature_names_"
   ]
  },
  {
   "cell_type": "code",
   "execution_count": 418,
   "id": "4ed9b71a",
   "metadata": {},
   "outputs": [],
   "source": [
    "SFS_features = ['Gender', 'Age_at_scan_years', 'DSC_ap-rCBV_ED_Intensity_Sum']"
   ]
  },
  {
   "cell_type": "markdown",
   "id": "6b0e3dda",
   "metadata": {},
   "source": [
    "# EMBEDDED:"
   ]
  },
  {
   "cell_type": "markdown",
   "id": "dac22b97",
   "metadata": {},
   "source": [
    "### Lasso:"
   ]
  },
  {
   "cell_type": "code",
   "execution_count": 43,
   "id": "8e9e5542",
   "metadata": {},
   "outputs": [],
   "source": [
    "# # standardize features?\n",
    "# std = np.std(non_bin, axis=0)\n",
    "# non_bin /= std"
   ]
  },
  {
   "cell_type": "code",
   "execution_count": 46,
   "id": "89b0366c",
   "metadata": {},
   "outputs": [
    {
     "data": {
      "text/html": [
       "<style>#sk-container-id-2 {color: black;background-color: white;}#sk-container-id-2 pre{padding: 0;}#sk-container-id-2 div.sk-toggleable {background-color: white;}#sk-container-id-2 label.sk-toggleable__label {cursor: pointer;display: block;width: 100%;margin-bottom: 0;padding: 0.3em;box-sizing: border-box;text-align: center;}#sk-container-id-2 label.sk-toggleable__label-arrow:before {content: \"▸\";float: left;margin-right: 0.25em;color: #696969;}#sk-container-id-2 label.sk-toggleable__label-arrow:hover:before {color: black;}#sk-container-id-2 div.sk-estimator:hover label.sk-toggleable__label-arrow:before {color: black;}#sk-container-id-2 div.sk-toggleable__content {max-height: 0;max-width: 0;overflow: hidden;text-align: left;background-color: #f0f8ff;}#sk-container-id-2 div.sk-toggleable__content pre {margin: 0.2em;color: black;border-radius: 0.25em;background-color: #f0f8ff;}#sk-container-id-2 input.sk-toggleable__control:checked~div.sk-toggleable__content {max-height: 200px;max-width: 100%;overflow: auto;}#sk-container-id-2 input.sk-toggleable__control:checked~label.sk-toggleable__label-arrow:before {content: \"▾\";}#sk-container-id-2 div.sk-estimator input.sk-toggleable__control:checked~label.sk-toggleable__label {background-color: #d4ebff;}#sk-container-id-2 div.sk-label input.sk-toggleable__control:checked~label.sk-toggleable__label {background-color: #d4ebff;}#sk-container-id-2 input.sk-hidden--visually {border: 0;clip: rect(1px 1px 1px 1px);clip: rect(1px, 1px, 1px, 1px);height: 1px;margin: -1px;overflow: hidden;padding: 0;position: absolute;width: 1px;}#sk-container-id-2 div.sk-estimator {font-family: monospace;background-color: #f0f8ff;border: 1px dotted black;border-radius: 0.25em;box-sizing: border-box;margin-bottom: 0.5em;}#sk-container-id-2 div.sk-estimator:hover {background-color: #d4ebff;}#sk-container-id-2 div.sk-parallel-item::after {content: \"\";width: 100%;border-bottom: 1px solid gray;flex-grow: 1;}#sk-container-id-2 div.sk-label:hover label.sk-toggleable__label {background-color: #d4ebff;}#sk-container-id-2 div.sk-serial::before {content: \"\";position: absolute;border-left: 1px solid gray;box-sizing: border-box;top: 0;bottom: 0;left: 50%;z-index: 0;}#sk-container-id-2 div.sk-serial {display: flex;flex-direction: column;align-items: center;background-color: white;padding-right: 0.2em;padding-left: 0.2em;position: relative;}#sk-container-id-2 div.sk-item {position: relative;z-index: 1;}#sk-container-id-2 div.sk-parallel {display: flex;align-items: stretch;justify-content: center;background-color: white;position: relative;}#sk-container-id-2 div.sk-item::before, #sk-container-id-2 div.sk-parallel-item::before {content: \"\";position: absolute;border-left: 1px solid gray;box-sizing: border-box;top: 0;bottom: 0;left: 50%;z-index: -1;}#sk-container-id-2 div.sk-parallel-item {display: flex;flex-direction: column;z-index: 1;position: relative;background-color: white;}#sk-container-id-2 div.sk-parallel-item:first-child::after {align-self: flex-end;width: 50%;}#sk-container-id-2 div.sk-parallel-item:last-child::after {align-self: flex-start;width: 50%;}#sk-container-id-2 div.sk-parallel-item:only-child::after {width: 0;}#sk-container-id-2 div.sk-dashed-wrapped {border: 1px dashed gray;margin: 0 0.4em 0.5em 0.4em;box-sizing: border-box;padding-bottom: 0.4em;background-color: white;}#sk-container-id-2 div.sk-label label {font-family: monospace;font-weight: bold;display: inline-block;line-height: 1.2em;}#sk-container-id-2 div.sk-label-container {text-align: center;}#sk-container-id-2 div.sk-container {/* jupyter's `normalize.less` sets `[hidden] { display: none; }` but bootstrap.min.css set `[hidden] { display: none !important; }` so we also need the `!important` here to be able to override the default hidden behavior on the sphinx rendered scikit-learn.org. See: https://github.com/scikit-learn/scikit-learn/issues/21755 */display: inline-block !important;position: relative;}#sk-container-id-2 div.sk-text-repr-fallback {display: none;}</style><div id=\"sk-container-id-2\" class=\"sk-top-container\"><div class=\"sk-text-repr-fallback\"><pre>Lasso(alpha=5000, fit_intercept=False, positive=True)</pre><b>In a Jupyter environment, please rerun this cell to show the HTML representation or trust the notebook. <br />On GitHub, the HTML representation is unable to render, please try loading this page with nbviewer.org.</b></div><div class=\"sk-container\" hidden><div class=\"sk-item\"><div class=\"sk-estimator sk-toggleable\"><input class=\"sk-toggleable__control sk-hidden--visually\" id=\"sk-estimator-id-2\" type=\"checkbox\" checked><label for=\"sk-estimator-id-2\" class=\"sk-toggleable__label sk-toggleable__label-arrow\">Lasso</label><div class=\"sk-toggleable__content\"><pre>Lasso(alpha=5000, fit_intercept=False, positive=True)</pre></div></div></div></div></div>"
      ],
      "text/plain": [
       "Lasso(alpha=5000, fit_intercept=False, positive=True)"
      ]
     },
     "execution_count": 46,
     "metadata": {},
     "output_type": "execute_result"
    }
   ],
   "source": [
    "regressor = linear_model.Lasso(alpha=5000,\n",
    "                               positive=True,\n",
    "                               fit_intercept=False, \n",
    "                               max_iter=1000,\n",
    "                               tol=0.0001)\n",
    "regressor.fit(X_train, y_train)"
   ]
  },
  {
   "cell_type": "code",
   "execution_count": 27,
   "id": "467de4b1",
   "metadata": {
    "scrolled": false
   },
   "outputs": [
    {
     "data": {
      "text/html": [
       "\n",
       "    <style>\n",
       "    table.eli5-weights tr:hover {\n",
       "        filter: brightness(85%);\n",
       "    }\n",
       "</style>\n",
       "\n",
       "\n",
       "\n",
       "    \n",
       "\n",
       "    \n",
       "\n",
       "    \n",
       "\n",
       "    \n",
       "\n",
       "    \n",
       "\n",
       "    \n",
       "\n",
       "\n",
       "    \n",
       "\n",
       "    \n",
       "\n",
       "    \n",
       "\n",
       "    \n",
       "        \n",
       "\n",
       "    \n",
       "\n",
       "        \n",
       "            \n",
       "                \n",
       "                \n",
       "    \n",
       "        <p style=\"margin-bottom: 0.5em; margin-top: 0em\">\n",
       "            <b>\n",
       "    \n",
       "        y\n",
       "    \n",
       "</b>\n",
       "\n",
       "top features\n",
       "        </p>\n",
       "    \n",
       "    <table class=\"eli5-weights\"\n",
       "           style=\"border-collapse: collapse; border: none; margin-top: 0em; table-layout: auto; margin-bottom: 2em;\">\n",
       "        <thead>\n",
       "        <tr style=\"border: none;\">\n",
       "            \n",
       "                <th style=\"padding: 0 1em 0 0.5em; text-align: right; border: none;\" title=\"Feature weights. Note that weights do not account for feature value scales, so if feature values have different scales, features with highest weights might not be the most important.\">\n",
       "                    Weight<sup>?</sup>\n",
       "                </th>\n",
       "            \n",
       "            <th style=\"padding: 0 0.5em 0 0.5em; text-align: left; border: none;\">Feature</th>\n",
       "            \n",
       "        </tr>\n",
       "        </thead>\n",
       "        <tbody>\n",
       "        \n",
       "            <tr style=\"background-color: hsl(120, 100.00%, 80.00%); border: none;\">\n",
       "    <td style=\"padding: 0 1em 0 0.5em; text-align: right; border: none;\">\n",
       "        +0.604\n",
       "    </td>\n",
       "    <td style=\"padding: 0 0.5em 0 0.5em; text-align: left; border: none;\">\n",
       "        DSC_ap-rCBV_ED_NGTDM_Complexity\n",
       "    </td>\n",
       "    \n",
       "</tr>\n",
       "        \n",
       "            <tr style=\"background-color: hsl(120, 100.00%, 98.14%); border: none;\">\n",
       "    <td style=\"padding: 0 1em 0 0.5em; text-align: right; border: none;\">\n",
       "        +0.020\n",
       "    </td>\n",
       "    <td style=\"padding: 0 0.5em 0 0.5em; text-align: left; border: none;\">\n",
       "        DSC_ap-rCBV_ED_GLCM_Bins-16_Radius-1_ClusterProminence\n",
       "    </td>\n",
       "    \n",
       "</tr>\n",
       "        \n",
       "            <tr style=\"background-color: hsl(120, 100.00%, 98.55%); border: none;\">\n",
       "    <td style=\"padding: 0 1em 0 0.5em; text-align: right; border: none;\">\n",
       "        +0.014\n",
       "    </td>\n",
       "    <td style=\"padding: 0 0.5em 0 0.5em; text-align: left; border: none;\">\n",
       "        DSC_ap-rCBV_ED_Intensity_Variance\n",
       "    </td>\n",
       "    \n",
       "</tr>\n",
       "        \n",
       "            <tr style=\"background-color: hsl(120, 100.00%, 99.09%); border: none;\">\n",
       "    <td style=\"padding: 0 1em 0 0.5em; text-align: right; border: none;\">\n",
       "        +0.007\n",
       "    </td>\n",
       "    <td style=\"padding: 0 0.5em 0 0.5em; text-align: left; border: none;\">\n",
       "        DSC_ap-rCBV_ED_Histogram_Bins-16_Bins-16_Bin-2_Frequency\n",
       "    </td>\n",
       "    \n",
       "</tr>\n",
       "        \n",
       "            <tr style=\"background-color: hsl(120, 100.00%, 99.71%); border: none;\">\n",
       "    <td style=\"padding: 0 1em 0 0.5em; text-align: right; border: none;\">\n",
       "        +0.001\n",
       "    </td>\n",
       "    <td style=\"padding: 0 0.5em 0 0.5em; text-align: left; border: none;\">\n",
       "        DSC_ap-rCBV_ED_Histogram_Bins-16_Bins-16_Bin-0_Frequency\n",
       "    </td>\n",
       "    \n",
       "</tr>\n",
       "        \n",
       "            <tr style=\"background-color: hsl(120, 100.00%, 99.97%); border: none;\">\n",
       "    <td style=\"padding: 0 1em 0 0.5em; text-align: right; border: none;\">\n",
       "        +0.000\n",
       "    </td>\n",
       "    <td style=\"padding: 0 0.5em 0 0.5em; text-align: left; border: none;\">\n",
       "        DSC_ap-rCBV_ED_Morphologic_EquivalentSphericalPerimeter\n",
       "    </td>\n",
       "    \n",
       "</tr>\n",
       "        \n",
       "            <tr style=\"background-color: hsl(120, 100.00%, 99.98%); border: none;\">\n",
       "    <td style=\"padding: 0 1em 0 0.5em; text-align: right; border: none;\">\n",
       "        +0.000\n",
       "    </td>\n",
       "    <td style=\"padding: 0 0.5em 0 0.5em; text-align: left; border: none;\">\n",
       "        DSC_ap-rCBV_ED_GLSZM_Bins-16_Radius-1_LargeZoneLowGreyLevelEmphasis\n",
       "    </td>\n",
       "    \n",
       "</tr>\n",
       "        \n",
       "        \n",
       "\n",
       "        \n",
       "        \n",
       "\n",
       "        </tbody>\n",
       "    </table>\n",
       "\n",
       "            \n",
       "        \n",
       "\n",
       "        \n",
       "\n",
       "\n",
       "\n",
       "    \n",
       "\n",
       "    \n",
       "\n",
       "    \n",
       "\n",
       "    \n",
       "\n",
       "\n",
       "    \n",
       "\n",
       "    \n",
       "\n",
       "    \n",
       "\n",
       "    \n",
       "\n",
       "    \n",
       "\n",
       "    \n",
       "\n",
       "\n",
       "    \n",
       "\n",
       "    \n",
       "\n",
       "    \n",
       "\n",
       "    \n",
       "\n",
       "    \n",
       "\n",
       "    \n",
       "\n",
       "\n",
       "\n"
      ],
      "text/plain": [
       "<IPython.core.display.HTML object>"
      ]
     },
     "execution_count": 27,
     "metadata": {},
     "output_type": "execute_result"
    }
   ],
   "source": [
    "eli5.show_weights(regressor, top=-1, feature_names = X_train.columns.tolist())"
   ]
  },
  {
   "cell_type": "markdown",
   "id": "6027f1f9",
   "metadata": {},
   "source": [
    "### Ridge:"
   ]
  },
  {
   "cell_type": "code",
   "execution_count": 408,
   "id": "e4aab810",
   "metadata": {},
   "outputs": [
    {
     "data": {
      "text/html": [
       "<style>#sk-container-id-10 {color: black;background-color: white;}#sk-container-id-10 pre{padding: 0;}#sk-container-id-10 div.sk-toggleable {background-color: white;}#sk-container-id-10 label.sk-toggleable__label {cursor: pointer;display: block;width: 100%;margin-bottom: 0;padding: 0.3em;box-sizing: border-box;text-align: center;}#sk-container-id-10 label.sk-toggleable__label-arrow:before {content: \"▸\";float: left;margin-right: 0.25em;color: #696969;}#sk-container-id-10 label.sk-toggleable__label-arrow:hover:before {color: black;}#sk-container-id-10 div.sk-estimator:hover label.sk-toggleable__label-arrow:before {color: black;}#sk-container-id-10 div.sk-toggleable__content {max-height: 0;max-width: 0;overflow: hidden;text-align: left;background-color: #f0f8ff;}#sk-container-id-10 div.sk-toggleable__content pre {margin: 0.2em;color: black;border-radius: 0.25em;background-color: #f0f8ff;}#sk-container-id-10 input.sk-toggleable__control:checked~div.sk-toggleable__content {max-height: 200px;max-width: 100%;overflow: auto;}#sk-container-id-10 input.sk-toggleable__control:checked~label.sk-toggleable__label-arrow:before {content: \"▾\";}#sk-container-id-10 div.sk-estimator input.sk-toggleable__control:checked~label.sk-toggleable__label {background-color: #d4ebff;}#sk-container-id-10 div.sk-label input.sk-toggleable__control:checked~label.sk-toggleable__label {background-color: #d4ebff;}#sk-container-id-10 input.sk-hidden--visually {border: 0;clip: rect(1px 1px 1px 1px);clip: rect(1px, 1px, 1px, 1px);height: 1px;margin: -1px;overflow: hidden;padding: 0;position: absolute;width: 1px;}#sk-container-id-10 div.sk-estimator {font-family: monospace;background-color: #f0f8ff;border: 1px dotted black;border-radius: 0.25em;box-sizing: border-box;margin-bottom: 0.5em;}#sk-container-id-10 div.sk-estimator:hover {background-color: #d4ebff;}#sk-container-id-10 div.sk-parallel-item::after {content: \"\";width: 100%;border-bottom: 1px solid gray;flex-grow: 1;}#sk-container-id-10 div.sk-label:hover label.sk-toggleable__label {background-color: #d4ebff;}#sk-container-id-10 div.sk-serial::before {content: \"\";position: absolute;border-left: 1px solid gray;box-sizing: border-box;top: 0;bottom: 0;left: 50%;z-index: 0;}#sk-container-id-10 div.sk-serial {display: flex;flex-direction: column;align-items: center;background-color: white;padding-right: 0.2em;padding-left: 0.2em;position: relative;}#sk-container-id-10 div.sk-item {position: relative;z-index: 1;}#sk-container-id-10 div.sk-parallel {display: flex;align-items: stretch;justify-content: center;background-color: white;position: relative;}#sk-container-id-10 div.sk-item::before, #sk-container-id-10 div.sk-parallel-item::before {content: \"\";position: absolute;border-left: 1px solid gray;box-sizing: border-box;top: 0;bottom: 0;left: 50%;z-index: -1;}#sk-container-id-10 div.sk-parallel-item {display: flex;flex-direction: column;z-index: 1;position: relative;background-color: white;}#sk-container-id-10 div.sk-parallel-item:first-child::after {align-self: flex-end;width: 50%;}#sk-container-id-10 div.sk-parallel-item:last-child::after {align-self: flex-start;width: 50%;}#sk-container-id-10 div.sk-parallel-item:only-child::after {width: 0;}#sk-container-id-10 div.sk-dashed-wrapped {border: 1px dashed gray;margin: 0 0.4em 0.5em 0.4em;box-sizing: border-box;padding-bottom: 0.4em;background-color: white;}#sk-container-id-10 div.sk-label label {font-family: monospace;font-weight: bold;display: inline-block;line-height: 1.2em;}#sk-container-id-10 div.sk-label-container {text-align: center;}#sk-container-id-10 div.sk-container {/* jupyter's `normalize.less` sets `[hidden] { display: none; }` but bootstrap.min.css set `[hidden] { display: none !important; }` so we also need the `!important` here to be able to override the default hidden behavior on the sphinx rendered scikit-learn.org. See: https://github.com/scikit-learn/scikit-learn/issues/21755 */display: inline-block !important;position: relative;}#sk-container-id-10 div.sk-text-repr-fallback {display: none;}</style><div id=\"sk-container-id-10\" class=\"sk-top-container\"><div class=\"sk-text-repr-fallback\"><pre>Ridge(alpha=5000, fit_intercept=False, max_iter=1000, positive=True)</pre><b>In a Jupyter environment, please rerun this cell to show the HTML representation or trust the notebook. <br />On GitHub, the HTML representation is unable to render, please try loading this page with nbviewer.org.</b></div><div class=\"sk-container\" hidden><div class=\"sk-item\"><div class=\"sk-estimator sk-toggleable\"><input class=\"sk-toggleable__control sk-hidden--visually\" id=\"sk-estimator-id-12\" type=\"checkbox\" checked><label for=\"sk-estimator-id-12\" class=\"sk-toggleable__label sk-toggleable__label-arrow\">Ridge</label><div class=\"sk-toggleable__content\"><pre>Ridge(alpha=5000, fit_intercept=False, max_iter=1000, positive=True)</pre></div></div></div></div></div>"
      ],
      "text/plain": [
       "Ridge(alpha=5000, fit_intercept=False, max_iter=1000, positive=True)"
      ]
     },
     "execution_count": 408,
     "metadata": {},
     "output_type": "execute_result"
    }
   ],
   "source": [
    "# use X_train_std\n",
    "ridge = linear_model.Ridge(alpha=5000,\n",
    "                               positive=True,\n",
    "                               fit_intercept=False, \n",
    "                               max_iter=1000,\n",
    "                               tol=0.0001)\n",
    "ridge.fit(X_train_std, y_train)"
   ]
  },
  {
   "cell_type": "code",
   "execution_count": 410,
   "id": "d7febc29",
   "metadata": {},
   "outputs": [],
   "source": [
    "ridge_features = ['DSC_ap-rCBV_ED_Morphologic_Roundness', 'DSC_ap-rCBV_ED_GLSZM_Bins-16_Radius-1_LargeZoneLowGreyLevelEmphasis', \n",
    "                 'DSC_ap-rCBV_ED_Histogram_Bins-16_Bins-16_MedianAbsoluteDeviation', 'DSC_ap-rCBV_ED_GLSZM_Bins-16_Radius-1_ZoneSizeVariance', \n",
    "                 'DSC_ap-rCBV_ED_GLSZM_Bins-16_Radius-1_LargeZoneEmphasis', 'DSC_ap-rCBV_ED_Morphologic_EllipseDiameter_Axis-0']"
   ]
  },
  {
   "cell_type": "code",
   "execution_count": 409,
   "id": "c5481c8e",
   "metadata": {
    "scrolled": true
   },
   "outputs": [
    {
     "data": {
      "text/html": [
       "\n",
       "    <style>\n",
       "    table.eli5-weights tr:hover {\n",
       "        filter: brightness(85%);\n",
       "    }\n",
       "</style>\n",
       "\n",
       "\n",
       "\n",
       "    \n",
       "\n",
       "    \n",
       "\n",
       "    \n",
       "\n",
       "    \n",
       "\n",
       "    \n",
       "\n",
       "    \n",
       "\n",
       "\n",
       "    \n",
       "\n",
       "    \n",
       "\n",
       "    \n",
       "\n",
       "    \n",
       "        \n",
       "\n",
       "    \n",
       "\n",
       "        \n",
       "            \n",
       "                \n",
       "                \n",
       "    \n",
       "        <p style=\"margin-bottom: 0.5em; margin-top: 0em\">\n",
       "            <b>\n",
       "    \n",
       "        y\n",
       "    \n",
       "</b>\n",
       "\n",
       "top features\n",
       "        </p>\n",
       "    \n",
       "    <table class=\"eli5-weights\"\n",
       "           style=\"border-collapse: collapse; border: none; margin-top: 0em; table-layout: auto; margin-bottom: 2em;\">\n",
       "        <thead>\n",
       "        <tr style=\"border: none;\">\n",
       "            \n",
       "                <th style=\"padding: 0 1em 0 0.5em; text-align: right; border: none;\" title=\"Feature weights. Note that weights do not account for feature value scales, so if feature values have different scales, features with highest weights might not be the most important.\">\n",
       "                    Weight<sup>?</sup>\n",
       "                </th>\n",
       "            \n",
       "            <th style=\"padding: 0 0.5em 0 0.5em; text-align: left; border: none;\">Feature</th>\n",
       "            \n",
       "        </tr>\n",
       "        </thead>\n",
       "        <tbody>\n",
       "        \n",
       "            <tr style=\"background-color: hsl(120, 100.00%, 80.00%); border: none;\">\n",
       "    <td style=\"padding: 0 1em 0 0.5em; text-align: right; border: none;\">\n",
       "        +2.394\n",
       "    </td>\n",
       "    <td style=\"padding: 0 0.5em 0 0.5em; text-align: left; border: none;\">\n",
       "        DSC_ap-rCBV_ED_Morphologic_Roundness\n",
       "    </td>\n",
       "    \n",
       "</tr>\n",
       "        \n",
       "            <tr style=\"background-color: hsl(120, 100.00%, 82.13%); border: none;\">\n",
       "    <td style=\"padding: 0 1em 0 0.5em; text-align: right; border: none;\">\n",
       "        +2.039\n",
       "    </td>\n",
       "    <td style=\"padding: 0 0.5em 0 0.5em; text-align: left; border: none;\">\n",
       "        DSC_ap-rCBV_ED_GLSZM_Bins-16_Radius-1_LargeZoneLowGreyLevelEmphasis\n",
       "    </td>\n",
       "    \n",
       "</tr>\n",
       "        \n",
       "            <tr style=\"background-color: hsl(120, 100.00%, 83.14%); border: none;\">\n",
       "    <td style=\"padding: 0 1em 0 0.5em; text-align: right; border: none;\">\n",
       "        +1.876\n",
       "    </td>\n",
       "    <td style=\"padding: 0 0.5em 0 0.5em; text-align: left; border: none;\">\n",
       "        DSC_ap-rCBV_ED_Histogram_Bins-16_Bins-16_MedianAbsoluteDeviation\n",
       "    </td>\n",
       "    \n",
       "</tr>\n",
       "        \n",
       "            <tr style=\"background-color: hsl(120, 100.00%, 83.50%); border: none;\">\n",
       "    <td style=\"padding: 0 1em 0 0.5em; text-align: right; border: none;\">\n",
       "        +1.819\n",
       "    </td>\n",
       "    <td style=\"padding: 0 0.5em 0 0.5em; text-align: left; border: none;\">\n",
       "        DSC_ap-rCBV_ED_GLSZM_Bins-16_Radius-1_ZoneSizeVariance\n",
       "    </td>\n",
       "    \n",
       "</tr>\n",
       "        \n",
       "            <tr style=\"background-color: hsl(120, 100.00%, 83.52%); border: none;\">\n",
       "    <td style=\"padding: 0 1em 0 0.5em; text-align: right; border: none;\">\n",
       "        +1.816\n",
       "    </td>\n",
       "    <td style=\"padding: 0 0.5em 0 0.5em; text-align: left; border: none;\">\n",
       "        DSC_ap-rCBV_ED_GLSZM_Bins-16_Radius-1_LargeZoneEmphasis\n",
       "    </td>\n",
       "    \n",
       "</tr>\n",
       "        \n",
       "            <tr style=\"background-color: hsl(120, 100.00%, 83.87%); border: none;\">\n",
       "    <td style=\"padding: 0 1em 0 0.5em; text-align: right; border: none;\">\n",
       "        +1.761\n",
       "    </td>\n",
       "    <td style=\"padding: 0 0.5em 0 0.5em; text-align: left; border: none;\">\n",
       "        DSC_ap-rCBV_ED_Morphologic_EllipseDiameter_Axis-0\n",
       "    </td>\n",
       "    \n",
       "</tr>\n",
       "        \n",
       "            <tr style=\"background-color: hsl(120, 100.00%, 85.65%); border: none;\">\n",
       "    <td style=\"padding: 0 1em 0 0.5em; text-align: right; border: none;\">\n",
       "        +1.491\n",
       "    </td>\n",
       "    <td style=\"padding: 0 0.5em 0 0.5em; text-align: left; border: none;\">\n",
       "        DSC_ap-rCBV_ED_Histogram_Bins-16_Bins-16_Bin-0_Frequency\n",
       "    </td>\n",
       "    \n",
       "</tr>\n",
       "        \n",
       "            <tr style=\"background-color: hsl(120, 100.00%, 86.44%); border: none;\">\n",
       "    <td style=\"padding: 0 1em 0 0.5em; text-align: right; border: none;\">\n",
       "        +1.374\n",
       "    </td>\n",
       "    <td style=\"padding: 0 0.5em 0 0.5em; text-align: left; border: none;\">\n",
       "        DSC_ap-rCBV_ED_NGTDM_Busyness\n",
       "    </td>\n",
       "    \n",
       "</tr>\n",
       "        \n",
       "            <tr style=\"background-color: hsl(120, 100.00%, 86.47%); border: none;\">\n",
       "    <td style=\"padding: 0 1em 0 0.5em; text-align: right; border: none;\">\n",
       "        +1.370\n",
       "    </td>\n",
       "    <td style=\"padding: 0 0.5em 0 0.5em; text-align: left; border: none;\">\n",
       "        DSC_ap-rCBV_ED_GLCM_Bins-16_Radius-1_Energy\n",
       "    </td>\n",
       "    \n",
       "</tr>\n",
       "        \n",
       "            <tr style=\"background-color: hsl(120, 100.00%, 86.59%); border: none;\">\n",
       "    <td style=\"padding: 0 1em 0 0.5em; text-align: right; border: none;\">\n",
       "        +1.352\n",
       "    </td>\n",
       "    <td style=\"padding: 0 0.5em 0 0.5em; text-align: left; border: none;\">\n",
       "        DSC_ap-rCBV_ED_GLSZM_Bins-16_Radius-1_LargeZoneHighGreyLevelEmphasis\n",
       "    </td>\n",
       "    \n",
       "</tr>\n",
       "        \n",
       "            <tr style=\"background-color: hsl(120, 100.00%, 86.76%); border: none;\">\n",
       "    <td style=\"padding: 0 1em 0 0.5em; text-align: right; border: none;\">\n",
       "        +1.328\n",
       "    </td>\n",
       "    <td style=\"padding: 0 0.5em 0 0.5em; text-align: left; border: none;\">\n",
       "        DSC_ap-rCBV_ED_Histogram_Bins-16_Bins-16_Uniformity\n",
       "    </td>\n",
       "    \n",
       "</tr>\n",
       "        \n",
       "            <tr style=\"background-color: hsl(120, 100.00%, 87.56%); border: none;\">\n",
       "    <td style=\"padding: 0 1em 0 0.5em; text-align: right; border: none;\">\n",
       "        +1.215\n",
       "    </td>\n",
       "    <td style=\"padding: 0 0.5em 0 0.5em; text-align: left; border: none;\">\n",
       "        DSC_ap-rCBV_ED_Histogram_Bins-16_Bins-16_CoefficientOfVariation\n",
       "    </td>\n",
       "    \n",
       "</tr>\n",
       "        \n",
       "            <tr style=\"background-color: hsl(120, 100.00%, 88.01%); border: none;\">\n",
       "    <td style=\"padding: 0 1em 0 0.5em; text-align: right; border: none;\">\n",
       "        +1.153\n",
       "    </td>\n",
       "    <td style=\"padding: 0 0.5em 0 0.5em; text-align: left; border: none;\">\n",
       "        DSC_ap-rCBV_ED_Intensity_CoefficientOfVariation\n",
       "    </td>\n",
       "    \n",
       "</tr>\n",
       "        \n",
       "            <tr style=\"background-color: hsl(120, 100.00%, 88.29%); border: none;\">\n",
       "    <td style=\"padding: 0 1em 0 0.5em; text-align: right; border: none;\">\n",
       "        +1.114\n",
       "    </td>\n",
       "    <td style=\"padding: 0 0.5em 0 0.5em; text-align: left; border: none;\">\n",
       "        DSC_ap-rCBV_ED_Morphologic_LargestComponentSize\n",
       "    </td>\n",
       "    \n",
       "</tr>\n",
       "        \n",
       "            <tr style=\"background-color: hsl(120, 100.00%, 88.29%); border: none;\">\n",
       "    <td style=\"padding: 0 1em 0 0.5em; text-align: right; border: none;\">\n",
       "        +1.114\n",
       "    </td>\n",
       "    <td style=\"padding: 0 0.5em 0 0.5em; text-align: left; border: none;\">\n",
       "        DSC_ap-rCBV_ED_Morphologic_PhysicalSize\n",
       "    </td>\n",
       "    \n",
       "</tr>\n",
       "        \n",
       "            <tr style=\"background-color: hsl(120, 100.00%, 88.29%); border: none;\">\n",
       "    <td style=\"padding: 0 1em 0 0.5em; text-align: right; border: none;\">\n",
       "        +1.114\n",
       "    </td>\n",
       "    <td style=\"padding: 0 0.5em 0 0.5em; text-align: left; border: none;\">\n",
       "        DSC_ap-rCBV_ED_Morphologic_NumberOfPixels\n",
       "    </td>\n",
       "    \n",
       "</tr>\n",
       "        \n",
       "            <tr style=\"background-color: hsl(120, 100.00%, 88.59%); border: none;\">\n",
       "    <td style=\"padding: 0 1em 0 0.5em; text-align: right; border: none;\">\n",
       "        +1.074\n",
       "    </td>\n",
       "    <td style=\"padding: 0 0.5em 0 0.5em; text-align: left; border: none;\">\n",
       "        DSC_ap-rCBV_ED_Histogram_Bins-16_Bins-16_Bin-2_Frequency\n",
       "    </td>\n",
       "    \n",
       "</tr>\n",
       "        \n",
       "            <tr style=\"background-color: hsl(120, 100.00%, 88.63%); border: none;\">\n",
       "    <td style=\"padding: 0 1em 0 0.5em; text-align: right; border: none;\">\n",
       "        +1.069\n",
       "    </td>\n",
       "    <td style=\"padding: 0 0.5em 0 0.5em; text-align: left; border: none;\">\n",
       "        DSC_ap-rCBV_ED_Histogram_Bins-16_Bins-16_Bin-0_Probability\n",
       "    </td>\n",
       "    \n",
       "</tr>\n",
       "        \n",
       "            <tr style=\"background-color: hsl(120, 100.00%, 88.65%); border: none;\">\n",
       "    <td style=\"padding: 0 1em 0 0.5em; text-align: right; border: none;\">\n",
       "        +1.066\n",
       "    </td>\n",
       "    <td style=\"padding: 0 0.5em 0 0.5em; text-align: left; border: none;\">\n",
       "        DSC_ap-rCBV_ED_Volumetric_Pixels\n",
       "    </td>\n",
       "    \n",
       "</tr>\n",
       "        \n",
       "            <tr style=\"background-color: hsl(120, 100.00%, 88.65%); border: none;\">\n",
       "    <td style=\"padding: 0 1em 0 0.5em; text-align: right; border: none;\">\n",
       "        +1.066\n",
       "    </td>\n",
       "    <td style=\"padding: 0 0.5em 0 0.5em; text-align: left; border: none;\">\n",
       "        DSC_ap-rCBV_ED_Volumetric_Volume\n",
       "    </td>\n",
       "    \n",
       "</tr>\n",
       "        \n",
       "            <tr style=\"background-color: hsl(120, 100.00%, 88.73%); border: none;\">\n",
       "    <td style=\"padding: 0 1em 0 0.5em; text-align: right; border: none;\">\n",
       "        +1.055\n",
       "    </td>\n",
       "    <td style=\"padding: 0 0.5em 0 0.5em; text-align: left; border: none;\">\n",
       "        DSC_ap-rCBV_ED_LBP_Radius-1_Bins-16_LBP\n",
       "    </td>\n",
       "    \n",
       "</tr>\n",
       "        \n",
       "            <tr style=\"background-color: hsl(120, 100.00%, 88.80%); border: none;\">\n",
       "    <td style=\"padding: 0 1em 0 0.5em; text-align: right; border: none;\">\n",
       "        +1.046\n",
       "    </td>\n",
       "    <td style=\"padding: 0 0.5em 0 0.5em; text-align: left; border: none;\">\n",
       "        DSC_ap-rCBV_ED_Morphologic_EquivalentSphericalPerimeter\n",
       "    </td>\n",
       "    \n",
       "</tr>\n",
       "        \n",
       "            <tr style=\"background-color: hsl(120, 100.00%, 88.92%); border: none;\">\n",
       "    <td style=\"padding: 0 1em 0 0.5em; text-align: right; border: none;\">\n",
       "        +1.030\n",
       "    </td>\n",
       "    <td style=\"padding: 0 0.5em 0 0.5em; text-align: left; border: none;\">\n",
       "        DSC_ap-rCBV_ED_GLSZM_Bins-16_Radius-1_ZoneSizeMean\n",
       "    </td>\n",
       "    \n",
       "</tr>\n",
       "        \n",
       "            <tr style=\"background-color: hsl(120, 100.00%, 89.05%); border: none;\">\n",
       "    <td style=\"padding: 0 1em 0 0.5em; text-align: right; border: none;\">\n",
       "        +1.012\n",
       "    </td>\n",
       "    <td style=\"padding: 0 0.5em 0 0.5em; text-align: left; border: none;\">\n",
       "        DSC_ap-rCBV_ED_Morphologic_EquivalentSphericalRadius\n",
       "    </td>\n",
       "    \n",
       "</tr>\n",
       "        \n",
       "            <tr style=\"background-color: hsl(120, 100.00%, 89.42%); border: none;\">\n",
       "    <td style=\"padding: 0 1em 0 0.5em; text-align: right; border: none;\">\n",
       "        +0.964\n",
       "    </td>\n",
       "    <td style=\"padding: 0 0.5em 0 0.5em; text-align: left; border: none;\">\n",
       "        DSC_ap-rCBV_ED_Histogram_Bins-16_Bins-16_Bin-3_Frequency\n",
       "    </td>\n",
       "    \n",
       "</tr>\n",
       "        \n",
       "            <tr style=\"background-color: hsl(120, 100.00%, 89.52%); border: none;\">\n",
       "    <td style=\"padding: 0 1em 0 0.5em; text-align: right; border: none;\">\n",
       "        +0.951\n",
       "    </td>\n",
       "    <td style=\"padding: 0 0.5em 0 0.5em; text-align: left; border: none;\">\n",
       "        DSC_ap-rCBV_ED_GLSZM_Bins-16_Radius-1_ZoneSizeEntropy\n",
       "    </td>\n",
       "    \n",
       "</tr>\n",
       "        \n",
       "            <tr style=\"background-color: hsl(120, 100.00%, 90.27%); border: none;\">\n",
       "    <td style=\"padding: 0 1em 0 0.5em; text-align: right; border: none;\">\n",
       "        +0.855\n",
       "    </td>\n",
       "    <td style=\"padding: 0 0.5em 0 0.5em; text-align: left; border: none;\">\n",
       "        DSC_ap-rCBV_ED_GLSZM_Bins-16_Radius-1_GreyLevelVariance\n",
       "    </td>\n",
       "    \n",
       "</tr>\n",
       "        \n",
       "            <tr style=\"background-color: hsl(120, 100.00%, 91.22%); border: none;\">\n",
       "    <td style=\"padding: 0 1em 0 0.5em; text-align: right; border: none;\">\n",
       "        +0.738\n",
       "    </td>\n",
       "    <td style=\"padding: 0 0.5em 0 0.5em; text-align: left; border: none;\">\n",
       "        DSC_ap-rCBV_ED_Intensity_Sum\n",
       "    </td>\n",
       "    \n",
       "</tr>\n",
       "        \n",
       "            <tr style=\"background-color: hsl(120, 100.00%, 91.45%); border: none;\">\n",
       "    <td style=\"padding: 0 1em 0 0.5em; text-align: right; border: none;\">\n",
       "        +0.711\n",
       "    </td>\n",
       "    <td style=\"padding: 0 0.5em 0 0.5em; text-align: left; border: none;\">\n",
       "        DSC_ap-rCBV_ED_GLRLM_Bins-16_Radius-1_LongRunLowGreyLevelEmphasis\n",
       "    </td>\n",
       "    \n",
       "</tr>\n",
       "        \n",
       "            <tr style=\"background-color: hsl(120, 100.00%, 91.61%); border: none;\">\n",
       "    <td style=\"padding: 0 1em 0 0.5em; text-align: right; border: none;\">\n",
       "        +0.692\n",
       "    </td>\n",
       "    <td style=\"padding: 0 0.5em 0 0.5em; text-align: left; border: none;\">\n",
       "        DSC_ap-rCBV_ED_Histogram_Bins-16_Bins-16_Bin-15_Frequency\n",
       "    </td>\n",
       "    \n",
       "</tr>\n",
       "        \n",
       "            <tr style=\"background-color: hsl(120, 100.00%, 91.75%); border: none;\">\n",
       "    <td style=\"padding: 0 1em 0 0.5em; text-align: right; border: none;\">\n",
       "        +0.676\n",
       "    </td>\n",
       "    <td style=\"padding: 0 0.5em 0 0.5em; text-align: left; border: none;\">\n",
       "        DSC_ap-rCBV_ED_Intensity_Energy\n",
       "    </td>\n",
       "    \n",
       "</tr>\n",
       "        \n",
       "            <tr style=\"background-color: hsl(120, 100.00%, 91.83%); border: none;\">\n",
       "    <td style=\"padding: 0 1em 0 0.5em; text-align: right; border: none;\">\n",
       "        +0.666\n",
       "    </td>\n",
       "    <td style=\"padding: 0 0.5em 0 0.5em; text-align: left; border: none;\">\n",
       "        DSC_ap-rCBV_ED_GLRLM_Bins-16_Radius-1_LongRunEmphasis\n",
       "    </td>\n",
       "    \n",
       "</tr>\n",
       "        \n",
       "            <tr style=\"background-color: hsl(120, 100.00%, 91.83%); border: none;\">\n",
       "    <td style=\"padding: 0 1em 0 0.5em; text-align: right; border: none;\">\n",
       "        +0.666\n",
       "    </td>\n",
       "    <td style=\"padding: 0 0.5em 0 0.5em; text-align: left; border: none;\">\n",
       "        DSC_ap-rCBV_ED_Histogram_Bins-16_Bins-16_Skewness\n",
       "    </td>\n",
       "    \n",
       "</tr>\n",
       "        \n",
       "            <tr style=\"background-color: hsl(120, 100.00%, 92.15%); border: none;\">\n",
       "    <td style=\"padding: 0 1em 0 0.5em; text-align: right; border: none;\">\n",
       "        +0.630\n",
       "    </td>\n",
       "    <td style=\"padding: 0 0.5em 0 0.5em; text-align: left; border: none;\">\n",
       "        DSC_ap-rCBV_ED_Intensity_QuartileCoefficientOfVariation\n",
       "    </td>\n",
       "    \n",
       "</tr>\n",
       "        \n",
       "            <tr style=\"background-color: hsl(120, 100.00%, 92.35%); border: none;\">\n",
       "    <td style=\"padding: 0 1em 0 0.5em; text-align: right; border: none;\">\n",
       "        +0.607\n",
       "    </td>\n",
       "    <td style=\"padding: 0 0.5em 0 0.5em; text-align: left; border: none;\">\n",
       "        DSC_ap-rCBV_ED_GLSZM_Bins-16_Radius-1_SmallZoneLowGreyLevelEmphasis\n",
       "    </td>\n",
       "    \n",
       "</tr>\n",
       "        \n",
       "            <tr style=\"background-color: hsl(120, 100.00%, 92.43%); border: none;\">\n",
       "    <td style=\"padding: 0 1em 0 0.5em; text-align: right; border: none;\">\n",
       "        +0.598\n",
       "    </td>\n",
       "    <td style=\"padding: 0 0.5em 0 0.5em; text-align: left; border: none;\">\n",
       "        DSC_ap-rCBV_ED_GLSZM_Bins-16_Radius-1_HighGreyLevelEmphasis\n",
       "    </td>\n",
       "    \n",
       "</tr>\n",
       "        \n",
       "            <tr style=\"background-color: hsl(120, 100.00%, 92.94%); border: none;\">\n",
       "    <td style=\"padding: 0 1em 0 0.5em; text-align: right; border: none;\">\n",
       "        +0.541\n",
       "    </td>\n",
       "    <td style=\"padding: 0 0.5em 0 0.5em; text-align: left; border: none;\">\n",
       "        DSC_ap-rCBV_ED_Histogram_Bins-16_Bins-16_Energy\n",
       "    </td>\n",
       "    \n",
       "</tr>\n",
       "        \n",
       "            <tr style=\"background-color: hsl(120, 100.00%, 93.27%); border: none;\">\n",
       "    <td style=\"padding: 0 1em 0 0.5em; text-align: right; border: none;\">\n",
       "        +0.506\n",
       "    </td>\n",
       "    <td style=\"padding: 0 0.5em 0 0.5em; text-align: left; border: none;\">\n",
       "        DSC_ap-rCBV_ED_Histogram_Bins-16_Bins-16_Sum\n",
       "    </td>\n",
       "    \n",
       "</tr>\n",
       "        \n",
       "            <tr style=\"background-color: hsl(120, 100.00%, 93.34%); border: none;\">\n",
       "    <td style=\"padding: 0 1em 0 0.5em; text-align: right; border: none;\">\n",
       "        +0.497\n",
       "    </td>\n",
       "    <td style=\"padding: 0 0.5em 0 0.5em; text-align: left; border: none;\">\n",
       "        DSC_ap-rCBV_ED_Histogram_Bins-16_Bins-16_TenthPercentile\n",
       "    </td>\n",
       "    \n",
       "</tr>\n",
       "        \n",
       "            <tr style=\"background-color: hsl(120, 100.00%, 93.49%); border: none;\">\n",
       "    <td style=\"padding: 0 1em 0 0.5em; text-align: right; border: none;\">\n",
       "        +0.482\n",
       "    </td>\n",
       "    <td style=\"padding: 0 0.5em 0 0.5em; text-align: left; border: none;\">\n",
       "        DSC_ap-rCBV_ED_Histogram_Bins-16_Bins-16_Kurtosis\n",
       "    </td>\n",
       "    \n",
       "</tr>\n",
       "        \n",
       "            <tr style=\"background-color: hsl(120, 100.00%, 93.49%); border: none;\">\n",
       "    <td style=\"padding: 0 1em 0 0.5em; text-align: right; border: none;\">\n",
       "        +0.481\n",
       "    </td>\n",
       "    <td style=\"padding: 0 0.5em 0 0.5em; text-align: left; border: none;\">\n",
       "        DSC_ap-rCBV_ED_Histogram_Bins-16_Bins-16_Bin-8_Frequency\n",
       "    </td>\n",
       "    \n",
       "</tr>\n",
       "        \n",
       "            <tr style=\"background-color: hsl(120, 100.00%, 93.57%); border: none;\">\n",
       "    <td style=\"padding: 0 1em 0 0.5em; text-align: right; border: none;\">\n",
       "        +0.473\n",
       "    </td>\n",
       "    <td style=\"padding: 0 0.5em 0 0.5em; text-align: left; border: none;\">\n",
       "        DSC_ap-rCBV_ED_Histogram_Bins-16_Bins-16_Bin-2_Probability\n",
       "    </td>\n",
       "    \n",
       "</tr>\n",
       "        \n",
       "            <tr style=\"background-color: hsl(120, 100.00%, 93.62%); border: none;\">\n",
       "    <td style=\"padding: 0 1em 0 0.5em; text-align: right; border: none;\">\n",
       "        +0.468\n",
       "    </td>\n",
       "    <td style=\"padding: 0 0.5em 0 0.5em; text-align: left; border: none;\">\n",
       "        DSC_ap-rCBV_ED_GLRLM_Bins-16_Radius-1_GreyLevelNonuniformity\n",
       "    </td>\n",
       "    \n",
       "</tr>\n",
       "        \n",
       "            <tr style=\"background-color: hsl(120, 100.00%, 93.66%); border: none;\">\n",
       "    <td style=\"padding: 0 1em 0 0.5em; text-align: right; border: none;\">\n",
       "        +0.463\n",
       "    </td>\n",
       "    <td style=\"padding: 0 0.5em 0 0.5em; text-align: left; border: none;\">\n",
       "        DSC_ap-rCBV_ED_Intensity_Skewness\n",
       "    </td>\n",
       "    \n",
       "</tr>\n",
       "        \n",
       "            <tr style=\"background-color: hsl(120, 100.00%, 93.67%); border: none;\">\n",
       "    <td style=\"padding: 0 1em 0 0.5em; text-align: right; border: none;\">\n",
       "        +0.463\n",
       "    </td>\n",
       "    <td style=\"padding: 0 0.5em 0 0.5em; text-align: left; border: none;\">\n",
       "        DSC_ap-rCBV_ED_Histogram_Bins-16_Bins-16_Bin-4_Frequency\n",
       "    </td>\n",
       "    \n",
       "</tr>\n",
       "        \n",
       "            <tr style=\"background-color: hsl(120, 100.00%, 93.73%); border: none;\">\n",
       "    <td style=\"padding: 0 1em 0 0.5em; text-align: right; border: none;\">\n",
       "        +0.456\n",
       "    </td>\n",
       "    <td style=\"padding: 0 0.5em 0 0.5em; text-align: left; border: none;\">\n",
       "        DSC_ap-rCBV_ED_GLCM_Bins-16_Radius-1_Correlation\n",
       "    </td>\n",
       "    \n",
       "</tr>\n",
       "        \n",
       "            <tr style=\"background-color: hsl(120, 100.00%, 93.99%); border: none;\">\n",
       "    <td style=\"padding: 0 1em 0 0.5em; text-align: right; border: none;\">\n",
       "        +0.430\n",
       "    </td>\n",
       "    <td style=\"padding: 0 0.5em 0 0.5em; text-align: left; border: none;\">\n",
       "        DSC_ap-rCBV_ED_GLSZM_Bins-16_Radius-1_GreyLevelMean\n",
       "    </td>\n",
       "    \n",
       "</tr>\n",
       "        \n",
       "            <tr style=\"background-color: hsl(120, 100.00%, 94.13%); border: none;\">\n",
       "    <td style=\"padding: 0 1em 0 0.5em; text-align: right; border: none;\">\n",
       "        +0.416\n",
       "    </td>\n",
       "    <td style=\"padding: 0 0.5em 0 0.5em; text-align: left; border: none;\">\n",
       "        DSC_ap-rCBV_ED_Histogram_Bins-16_Bins-16_Bin-9_Frequency\n",
       "    </td>\n",
       "    \n",
       "</tr>\n",
       "        \n",
       "            <tr style=\"background-color: hsl(120, 100.00%, 94.59%); border: none;\">\n",
       "    <td style=\"padding: 0 1em 0 0.5em; text-align: right; border: none;\">\n",
       "        +0.370\n",
       "    </td>\n",
       "    <td style=\"padding: 0 0.5em 0 0.5em; text-align: left; border: none;\">\n",
       "        DSC_ap-rCBV_ED_Intensity_MeanAbsoluteDeviation\n",
       "    </td>\n",
       "    \n",
       "</tr>\n",
       "        \n",
       "            <tr style=\"background-color: hsl(120, 100.00%, 94.61%); border: none;\">\n",
       "    <td style=\"padding: 0 1em 0 0.5em; text-align: right; border: none;\">\n",
       "        +0.368\n",
       "    </td>\n",
       "    <td style=\"padding: 0 0.5em 0 0.5em; text-align: left; border: none;\">\n",
       "        DSC_ap-rCBV_ED_GLCM_Bins-16_Radius-1_Homogeneity\n",
       "    </td>\n",
       "    \n",
       "</tr>\n",
       "        \n",
       "            <tr style=\"background-color: hsl(120, 100.00%, 94.66%); border: none;\">\n",
       "    <td style=\"padding: 0 1em 0 0.5em; text-align: right; border: none;\">\n",
       "        +0.363\n",
       "    </td>\n",
       "    <td style=\"padding: 0 0.5em 0 0.5em; text-align: left; border: none;\">\n",
       "        DSC_ap-rCBV_ED_Histogram_Bins-16_Bins-16_Bin-10_Frequency\n",
       "    </td>\n",
       "    \n",
       "</tr>\n",
       "        \n",
       "            <tr style=\"background-color: hsl(120, 100.00%, 94.71%); border: none;\">\n",
       "    <td style=\"padding: 0 1em 0 0.5em; text-align: right; border: none;\">\n",
       "        +0.359\n",
       "    </td>\n",
       "    <td style=\"padding: 0 0.5em 0 0.5em; text-align: left; border: none;\">\n",
       "        DSC_ap-rCBV_ED_Morphologic_EllipseDiameter_Axis-1\n",
       "    </td>\n",
       "    \n",
       "</tr>\n",
       "        \n",
       "            <tr style=\"background-color: hsl(120, 100.00%, 94.92%); border: none;\">\n",
       "    <td style=\"padding: 0 1em 0 0.5em; text-align: right; border: none;\">\n",
       "        +0.338\n",
       "    </td>\n",
       "    <td style=\"padding: 0 0.5em 0 0.5em; text-align: left; border: none;\">\n",
       "        DSC_ap-rCBV_ED_Morphologic_EllipseDiameter_Axis-2\n",
       "    </td>\n",
       "    \n",
       "</tr>\n",
       "        \n",
       "            <tr style=\"background-color: hsl(120, 100.00%, 95.07%); border: none;\">\n",
       "    <td style=\"padding: 0 1em 0 0.5em; text-align: right; border: none;\">\n",
       "        +0.324\n",
       "    </td>\n",
       "    <td style=\"padding: 0 0.5em 0 0.5em; text-align: left; border: none;\">\n",
       "        DSC_ap-rCBV_ED_GLRLM_Bins-16_Radius-1_LowGreyLevelRunEmphasis\n",
       "    </td>\n",
       "    \n",
       "</tr>\n",
       "        \n",
       "            <tr style=\"background-color: hsl(120, 100.00%, 95.30%); border: none;\">\n",
       "    <td style=\"padding: 0 1em 0 0.5em; text-align: right; border: none;\">\n",
       "        +0.302\n",
       "    </td>\n",
       "    <td style=\"padding: 0 0.5em 0 0.5em; text-align: left; border: none;\">\n",
       "        DSC_ap-rCBV_ED_GLRLM_Bins-16_Radius-1_RunLengthNonuniformity\n",
       "    </td>\n",
       "    \n",
       "</tr>\n",
       "        \n",
       "            <tr style=\"background-color: hsl(120, 100.00%, 95.54%); border: none;\">\n",
       "    <td style=\"padding: 0 1em 0 0.5em; text-align: right; border: none;\">\n",
       "        +0.281\n",
       "    </td>\n",
       "    <td style=\"padding: 0 0.5em 0 0.5em; text-align: left; border: none;\">\n",
       "        DSC_ap-rCBV_ED_Histogram_Bins-16_Bins-16_Bin-6_Frequency\n",
       "    </td>\n",
       "    \n",
       "</tr>\n",
       "        \n",
       "            <tr style=\"background-color: hsl(120, 100.00%, 95.72%); border: none;\">\n",
       "    <td style=\"padding: 0 1em 0 0.5em; text-align: right; border: none;\">\n",
       "        +0.265\n",
       "    </td>\n",
       "    <td style=\"padding: 0 0.5em 0 0.5em; text-align: left; border: none;\">\n",
       "        DSC_ap-rCBV_ED_Histogram_Bins-16_Bins-16_Bin-5_Frequency\n",
       "    </td>\n",
       "    \n",
       "</tr>\n",
       "        \n",
       "            <tr style=\"background-color: hsl(120, 100.00%, 95.72%); border: none;\">\n",
       "    <td style=\"padding: 0 1em 0 0.5em; text-align: right; border: none;\">\n",
       "        +0.265\n",
       "    </td>\n",
       "    <td style=\"padding: 0 0.5em 0 0.5em; text-align: left; border: none;\">\n",
       "        DSC_ap-rCBV_ED_Histogram_Bins-16_Bins-16_Bin-11_Frequency\n",
       "    </td>\n",
       "    \n",
       "</tr>\n",
       "        \n",
       "            <tr style=\"background-color: hsl(120, 100.00%, 95.73%); border: none;\">\n",
       "    <td style=\"padding: 0 1em 0 0.5em; text-align: right; border: none;\">\n",
       "        +0.264\n",
       "    </td>\n",
       "    <td style=\"padding: 0 0.5em 0 0.5em; text-align: left; border: none;\">\n",
       "        DSC_ap-rCBV_ED_Intensity_Kurtosis\n",
       "    </td>\n",
       "    \n",
       "</tr>\n",
       "        \n",
       "            <tr style=\"background-color: hsl(120, 100.00%, 96.09%); border: none;\">\n",
       "    <td style=\"padding: 0 1em 0 0.5em; text-align: right; border: none;\">\n",
       "        +0.233\n",
       "    </td>\n",
       "    <td style=\"padding: 0 0.5em 0 0.5em; text-align: left; border: none;\">\n",
       "        DSC_ap-rCBV_ED_Histogram_Bins-16_Bins-16_Bin-7_Frequency\n",
       "    </td>\n",
       "    \n",
       "</tr>\n",
       "        \n",
       "            <tr style=\"background-color: hsl(120, 100.00%, 96.19%); border: none;\">\n",
       "    <td style=\"padding: 0 1em 0 0.5em; text-align: right; border: none;\">\n",
       "        +0.224\n",
       "    </td>\n",
       "    <td style=\"padding: 0 0.5em 0 0.5em; text-align: left; border: none;\">\n",
       "        DSC_ap-rCBV_ED_Histogram_Bins-16_Bins-16_Bin-13_Frequency\n",
       "    </td>\n",
       "    \n",
       "</tr>\n",
       "        \n",
       "            <tr style=\"background-color: hsl(120, 100.00%, 96.40%); border: none;\">\n",
       "    <td style=\"padding: 0 1em 0 0.5em; text-align: right; border: none;\">\n",
       "        +0.206\n",
       "    </td>\n",
       "    <td style=\"padding: 0 0.5em 0 0.5em; text-align: left; border: none;\">\n",
       "        DSC_ap-rCBV_ED_Intensity_MedianAbsoluteDeviation\n",
       "    </td>\n",
       "    \n",
       "</tr>\n",
       "        \n",
       "            <tr style=\"background-color: hsl(120, 100.00%, 96.67%); border: none;\">\n",
       "    <td style=\"padding: 0 1em 0 0.5em; text-align: right; border: none;\">\n",
       "        +0.185\n",
       "    </td>\n",
       "    <td style=\"padding: 0 0.5em 0 0.5em; text-align: left; border: none;\">\n",
       "        DSC_ap-rCBV_ED_Histogram_Bins-16_Bins-16_FifthPercentileMean\n",
       "    </td>\n",
       "    \n",
       "</tr>\n",
       "        \n",
       "            <tr style=\"background-color: hsl(120, 100.00%, 96.79%); border: none;\">\n",
       "    <td style=\"padding: 0 1em 0 0.5em; text-align: right; border: none;\">\n",
       "        +0.175\n",
       "    </td>\n",
       "    <td style=\"padding: 0 0.5em 0 0.5em; text-align: left; border: none;\">\n",
       "        IDH1\n",
       "    </td>\n",
       "    \n",
       "</tr>\n",
       "        \n",
       "            <tr style=\"background-color: hsl(120, 100.00%, 97.29%); border: none;\">\n",
       "    <td style=\"padding: 0 1em 0 0.5em; text-align: right; border: none;\">\n",
       "        +0.137\n",
       "    </td>\n",
       "    <td style=\"padding: 0 0.5em 0 0.5em; text-align: left; border: none;\">\n",
       "        DSC_ap-rCBV_ED_GLCM_Bins-16_Radius-1_Contrast\n",
       "    </td>\n",
       "    \n",
       "</tr>\n",
       "        \n",
       "            <tr style=\"background-color: hsl(120, 100.00%, 97.32%); border: none;\">\n",
       "    <td style=\"padding: 0 1em 0 0.5em; text-align: right; border: none;\">\n",
       "        +0.135\n",
       "    </td>\n",
       "    <td style=\"padding: 0 0.5em 0 0.5em; text-align: left; border: none;\">\n",
       "        DSC_ap-rCBV_ED_Intensity_Range\n",
       "    </td>\n",
       "    \n",
       "</tr>\n",
       "        \n",
       "            <tr style=\"background-color: hsl(120, 100.00%, 97.61%); border: none;\">\n",
       "    <td style=\"padding: 0 1em 0 0.5em; text-align: right; border: none;\">\n",
       "        +0.115\n",
       "    </td>\n",
       "    <td style=\"padding: 0 0.5em 0 0.5em; text-align: left; border: none;\">\n",
       "        DSC_ap-rCBV_ED_GLCM_Bins-16_Radius-1_ClusterShade\n",
       "    </td>\n",
       "    \n",
       "</tr>\n",
       "        \n",
       "            <tr style=\"background-color: hsl(120, 100.00%, 97.67%); border: none;\">\n",
       "    <td style=\"padding: 0 1em 0 0.5em; text-align: right; border: none;\">\n",
       "        +0.111\n",
       "    </td>\n",
       "    <td style=\"padding: 0 0.5em 0 0.5em; text-align: left; border: none;\">\n",
       "        DSC_ap-rCBV_ED_GLSZM_Bins-16_Radius-1_SmallZoneHighGreyLevelEmphasis\n",
       "    </td>\n",
       "    \n",
       "</tr>\n",
       "        \n",
       "            <tr style=\"background-color: hsl(120, 100.00%, 97.96%); border: none;\">\n",
       "    <td style=\"padding: 0 1em 0 0.5em; text-align: right; border: none;\">\n",
       "        +0.092\n",
       "    </td>\n",
       "    <td style=\"padding: 0 0.5em 0 0.5em; text-align: left; border: none;\">\n",
       "        DSC_ap-rCBV_ED_Intensity_Maximum\n",
       "    </td>\n",
       "    \n",
       "</tr>\n",
       "        \n",
       "            <tr style=\"background-color: hsl(120, 100.00%, 97.98%); border: none;\">\n",
       "    <td style=\"padding: 0 1em 0 0.5em; text-align: right; border: none;\">\n",
       "        +0.090\n",
       "    </td>\n",
       "    <td style=\"padding: 0 0.5em 0 0.5em; text-align: left; border: none;\">\n",
       "        DSC_ap-rCBV_ED_Morphologic_Perimeter\n",
       "    </td>\n",
       "    \n",
       "</tr>\n",
       "        \n",
       "            <tr style=\"background-color: hsl(120, 100.00%, 98.08%); border: none;\">\n",
       "    <td style=\"padding: 0 1em 0 0.5em; text-align: right; border: none;\">\n",
       "        +0.084\n",
       "    </td>\n",
       "    <td style=\"padding: 0 0.5em 0 0.5em; text-align: left; border: none;\">\n",
       "        DSC_ap-rCBV_ED_Histogram_Bins-16_Bins-16_Bin-12_Frequency\n",
       "    </td>\n",
       "    \n",
       "</tr>\n",
       "        \n",
       "            <tr style=\"background-color: hsl(120, 100.00%, 98.08%); border: none;\">\n",
       "    <td style=\"padding: 0 1em 0 0.5em; text-align: right; border: none;\">\n",
       "        +0.084\n",
       "    </td>\n",
       "    <td style=\"padding: 0 0.5em 0 0.5em; text-align: left; border: none;\">\n",
       "        DSC_ap-rCBV_ED_Histogram_Bins-16_Bins-16_Bin-14_Frequency\n",
       "    </td>\n",
       "    \n",
       "</tr>\n",
       "        \n",
       "            <tr style=\"background-color: hsl(120, 100.00%, 99.67%); border: none;\">\n",
       "    <td style=\"padding: 0 1em 0 0.5em; text-align: right; border: none;\">\n",
       "        +0.007\n",
       "    </td>\n",
       "    <td style=\"padding: 0 0.5em 0 0.5em; text-align: left; border: none;\">\n",
       "        DSC_ap-rCBV_ED_Histogram_Bins-16_Bins-16_MeanAbsoluteDeviation\n",
       "    </td>\n",
       "    \n",
       "</tr>\n",
       "        \n",
       "        \n",
       "\n",
       "        \n",
       "        \n",
       "\n",
       "        </tbody>\n",
       "    </table>\n",
       "\n",
       "            \n",
       "        \n",
       "\n",
       "        \n",
       "\n",
       "\n",
       "\n",
       "    \n",
       "\n",
       "    \n",
       "\n",
       "    \n",
       "\n",
       "    \n",
       "\n",
       "\n",
       "    \n",
       "\n",
       "    \n",
       "\n",
       "    \n",
       "\n",
       "    \n",
       "\n",
       "    \n",
       "\n",
       "    \n",
       "\n",
       "\n",
       "    \n",
       "\n",
       "    \n",
       "\n",
       "    \n",
       "\n",
       "    \n",
       "\n",
       "    \n",
       "\n",
       "    \n",
       "\n",
       "\n",
       "\n"
      ],
      "text/plain": [
       "<IPython.core.display.HTML object>"
      ]
     },
     "execution_count": 409,
     "metadata": {},
     "output_type": "execute_result"
    }
   ],
   "source": [
    "eli5.show_weights(ridge, top=-1, feature_names = X_train.columns.tolist())"
   ]
  },
  {
   "cell_type": "markdown",
   "id": "79be45f4",
   "metadata": {},
   "source": [
    "### SVM:"
   ]
  },
  {
   "cell_type": "code",
   "execution_count": 428,
   "id": "e555e4fe",
   "metadata": {},
   "outputs": [],
   "source": [
    "from sklearn.svm import SVC\n",
    "from sklearn.inspection import permutation_importance"
   ]
  },
  {
   "cell_type": "code",
   "execution_count": 441,
   "id": "41a6bf13",
   "metadata": {},
   "outputs": [
    {
     "data": {
      "text/plain": [
       "Text(0.5, 0, 'Permutation Importance')"
      ]
     },
     "execution_count": 441,
     "metadata": {},
     "output_type": "execute_result"
    },
    {
     "data": {
      "image/png": "[encoded data removed]",
      "text/plain": [
       "<Figure size 432x288 with 1 Axes>"
      ]
     },
     "metadata": {
      "needs_background": "light"
     },
     "output_type": "display_data"
    }
   ],
   "source": [
    "svc =  SVC(kernel='rbf', C=2)\n",
    "svc.fit(X_train, y_train)\n",
    "\n",
    "perm_importance = permutation_importance(svc, X_train, y_train)\n",
    "\n",
    "feature_names = X_train.columns.tolist()\n",
    "features = np.array(feature_names)\n",
    "\n",
    "sorted_idx = perm_importance.importances_mean.argsort()\n",
    "plt.barh(features[sorted_idx], perm_importance.importances_mean[sorted_idx])\n",
    "plt.xlabel(\"Permutation Importance\")"
   ]
  },
  {
   "cell_type": "code",
   "execution_count": 442,
   "id": "036d3547",
   "metadata": {},
   "outputs": [],
   "source": [
    "svm_features = [\"Gender\"]"
   ]
  },
  {
   "cell_type": "markdown",
   "id": "ef52fa21",
   "metadata": {},
   "source": [
    "### Tree (Random Forest):"
   ]
  },
  {
   "cell_type": "code",
   "execution_count": 144,
   "id": "ad2fedc4",
   "metadata": {},
   "outputs": [],
   "source": [
    "# scale features???\n",
    "sc = StandardScaler()\n",
    "sc.fit(X_train)\n",
    "X_train_std = sc.transform(X_train)"
   ]
  },
  {
   "cell_type": "code",
   "execution_count": 175,
   "id": "178a79c4",
   "metadata": {},
   "outputs": [
    {
     "data": {
      "text/html": [
       "<style>#sk-container-id-9 {color: black;background-color: white;}#sk-container-id-9 pre{padding: 0;}#sk-container-id-9 div.sk-toggleable {background-color: white;}#sk-container-id-9 label.sk-toggleable__label {cursor: pointer;display: block;width: 100%;margin-bottom: 0;padding: 0.3em;box-sizing: border-box;text-align: center;}#sk-container-id-9 label.sk-toggleable__label-arrow:before {content: \"▸\";float: left;margin-right: 0.25em;color: #696969;}#sk-container-id-9 label.sk-toggleable__label-arrow:hover:before {color: black;}#sk-container-id-9 div.sk-estimator:hover label.sk-toggleable__label-arrow:before {color: black;}#sk-container-id-9 div.sk-toggleable__content {max-height: 0;max-width: 0;overflow: hidden;text-align: left;background-color: #f0f8ff;}#sk-container-id-9 div.sk-toggleable__content pre {margin: 0.2em;color: black;border-radius: 0.25em;background-color: #f0f8ff;}#sk-container-id-9 input.sk-toggleable__control:checked~div.sk-toggleable__content {max-height: 200px;max-width: 100%;overflow: auto;}#sk-container-id-9 input.sk-toggleable__control:checked~label.sk-toggleable__label-arrow:before {content: \"▾\";}#sk-container-id-9 div.sk-estimator input.sk-toggleable__control:checked~label.sk-toggleable__label {background-color: #d4ebff;}#sk-container-id-9 div.sk-label input.sk-toggleable__control:checked~label.sk-toggleable__label {background-color: #d4ebff;}#sk-container-id-9 input.sk-hidden--visually {border: 0;clip: rect(1px 1px 1px 1px);clip: rect(1px, 1px, 1px, 1px);height: 1px;margin: -1px;overflow: hidden;padding: 0;position: absolute;width: 1px;}#sk-container-id-9 div.sk-estimator {font-family: monospace;background-color: #f0f8ff;border: 1px dotted black;border-radius: 0.25em;box-sizing: border-box;margin-bottom: 0.5em;}#sk-container-id-9 div.sk-estimator:hover {background-color: #d4ebff;}#sk-container-id-9 div.sk-parallel-item::after {content: \"\";width: 100%;border-bottom: 1px solid gray;flex-grow: 1;}#sk-container-id-9 div.sk-label:hover label.sk-toggleable__label {background-color: #d4ebff;}#sk-container-id-9 div.sk-serial::before {content: \"\";position: absolute;border-left: 1px solid gray;box-sizing: border-box;top: 0;bottom: 0;left: 50%;z-index: 0;}#sk-container-id-9 div.sk-serial {display: flex;flex-direction: column;align-items: center;background-color: white;padding-right: 0.2em;padding-left: 0.2em;position: relative;}#sk-container-id-9 div.sk-item {position: relative;z-index: 1;}#sk-container-id-9 div.sk-parallel {display: flex;align-items: stretch;justify-content: center;background-color: white;position: relative;}#sk-container-id-9 div.sk-item::before, #sk-container-id-9 div.sk-parallel-item::before {content: \"\";position: absolute;border-left: 1px solid gray;box-sizing: border-box;top: 0;bottom: 0;left: 50%;z-index: -1;}#sk-container-id-9 div.sk-parallel-item {display: flex;flex-direction: column;z-index: 1;position: relative;background-color: white;}#sk-container-id-9 div.sk-parallel-item:first-child::after {align-self: flex-end;width: 50%;}#sk-container-id-9 div.sk-parallel-item:last-child::after {align-self: flex-start;width: 50%;}#sk-container-id-9 div.sk-parallel-item:only-child::after {width: 0;}#sk-container-id-9 div.sk-dashed-wrapped {border: 1px dashed gray;margin: 0 0.4em 0.5em 0.4em;box-sizing: border-box;padding-bottom: 0.4em;background-color: white;}#sk-container-id-9 div.sk-label label {font-family: monospace;font-weight: bold;display: inline-block;line-height: 1.2em;}#sk-container-id-9 div.sk-label-container {text-align: center;}#sk-container-id-9 div.sk-container {/* jupyter's `normalize.less` sets `[hidden] { display: none; }` but bootstrap.min.css set `[hidden] { display: none !important; }` so we also need the `!important` here to be able to override the default hidden behavior on the sphinx rendered scikit-learn.org. See: https://github.com/scikit-learn/scikit-learn/issues/21755 */display: inline-block !important;position: relative;}#sk-container-id-9 div.sk-text-repr-fallback {display: none;}</style><div id=\"sk-container-id-9\" class=\"sk-top-container\"><div class=\"sk-text-repr-fallback\"><pre>RandomForestClassifier(n_estimators=500, random_state=1)</pre><b>In a Jupyter environment, please rerun this cell to show the HTML representation or trust the notebook. <br />On GitHub, the HTML representation is unable to render, please try loading this page with nbviewer.org.</b></div><div class=\"sk-container\" hidden><div class=\"sk-item\"><div class=\"sk-estimator sk-toggleable\"><input class=\"sk-toggleable__control sk-hidden--visually\" id=\"sk-estimator-id-11\" type=\"checkbox\" checked><label for=\"sk-estimator-id-11\" class=\"sk-toggleable__label sk-toggleable__label-arrow\">RandomForestClassifier</label><div class=\"sk-toggleable__content\"><pre>RandomForestClassifier(n_estimators=500, random_state=1)</pre></div></div></div></div></div>"
      ],
      "text/plain": [
       "RandomForestClassifier(n_estimators=500, random_state=1)"
      ]
     },
     "execution_count": 175,
     "metadata": {},
     "output_type": "execute_result"
    }
   ],
   "source": [
    "forest = RandomForestClassifier(n_estimators=500, random_state=1)\n",
    "forest.fit(X_train_std, y_train.values.ravel())"
   ]
  },
  {
   "cell_type": "code",
   "execution_count": 176,
   "id": "56c48585",
   "metadata": {
    "scrolled": true
   },
   "outputs": [
    {
     "name": "stdout",
     "output_type": "stream",
     "text": [
      " 1) DSC_ap-rCBV_ED_Morphologic_LargestComponentSize 0.013867\n",
      " 2) IDH1                           0.013795\n",
      " 3) DSC_ap-rCBV_ED_Histogram_Bins-16_Bins-16_Median 0.013524\n",
      " 4) DSC_ap-rCBV_ED_Histogram_Bins-16_Bins-16_Minimum 0.013477\n",
      " 5) DSC_ap-rCBV_ED_GLCM_Bins-16_Radius-1_AutoCorrelation 0.013144\n",
      " 6) DSC_ap-rCBV_ED_Intensity_Median 0.013087\n",
      " 7) DSC_ap-rCBV_ED_GLSZM_Bins-16_Radius-1_SmallZoneEmphasis 0.011478\n",
      " 8) DSC_ap-rCBV_ED_GLRLM_Bins-16_Radius-1_LongRunHighGreyLevelEmphasis 0.011139\n",
      " 9) DSC_ap-rCBV_ED_GLSZM_Bins-16_Radius-1_ZonePercentage 0.011061\n",
      "10) DSC_ap-rCBV_ED_Histogram_Bins-16_Bins-16_Bin-1_Frequency 0.010914\n",
      "11) DSC_ap-rCBV_ED_Intensity_Minimum 0.010819\n",
      "12) DSC_ap-rCBV_ED_Morphologic_EquivalentSphericalPerimeter 0.010818\n",
      "13) DSC_ap-rCBV_ED_GLSZM_Bins-16_Radius-1_HighGreyLevelEmphasis 0.010597\n",
      "14) DSC_ap-rCBV_ED_GLRLM_Bins-16_Radius-1_LowGreyLevelRunEmphasis 0.010315\n",
      "15) DSC_ap-rCBV_ED_Morphologic_EllipseDiameter_Axis-0 0.010186\n",
      "16) DSC_ap-rCBV_ED_GLSZM_Bins-16_Radius-1_GreyLevelNonUniformityNormalized 0.009892\n",
      "17) DSC_ap-rCBV_ED_GLSZM_Bins-16_Radius-1_GreyLevelNonUniformity 0.009841\n",
      "18) DSC_ap-rCBV_ED_GLSZM_Bins-16_Radius-1_GreyLevelVariance 0.009667\n",
      "19) DSC_ap-rCBV_ED_Histogram_Bins-16_Bins-16_Bin-2_Frequency 0.009659\n",
      "20) DSC_ap-rCBV_ED_GLSZM_Bins-16_Radius-1_ZoneSizeVariance 0.009510\n",
      "21) DSC_ap-rCBV_ED_GLSZM_Bins-16_Radius-1_SmallZoneLowGreyLevelEmphasis 0.009417\n",
      "22) DSC_ap-rCBV_ED_GLSZM_Bins-16_Radius-1_LargeZoneEmphasis 0.009411\n",
      "23) DSC_ap-rCBV_ED_GLSZM_Bins-16_Radius-1_SmallZoneHighGreyLevelEmphasis 0.009363\n",
      "24) DSC_ap-rCBV_ED_Intensity_Range 0.009362\n",
      "25) DSC_ap-rCBV_ED_Histogram_Bins-16_Bins-16_Bin-13_Probability 0.009303\n"
     ]
    }
   ],
   "source": [
    "importances = forest.feature_importances_\n",
    "sorted_indices = np.argsort(importances)[::-1] # descending order\n",
    "feat_labels = X_train.columns[1:]\n",
    "for f in range(25):\n",
    "    print(\"%2d) %-*s %f\" % (f + 1, 30, feat_labels[sorted_indices[f]], importances[sorted_indices[f]]))"
   ]
  },
  {
   "cell_type": "code",
   "execution_count": 167,
   "id": "7f3cc6f7",
   "metadata": {},
   "outputs": [],
   "source": [
    "# to avoid randomness, get results a few times and take intersection"
   ]
  },
  {
   "cell_type": "markdown",
   "id": "01970525",
   "metadata": {},
   "source": [
    "## FILTER:"
   ]
  },
  {
   "cell_type": "markdown",
   "id": "7219b15d",
   "metadata": {},
   "source": [
    "### T-Test:"
   ]
  },
  {
   "cell_type": "code",
   "execution_count": 184,
   "id": "8ce57f5b",
   "metadata": {},
   "outputs": [],
   "source": [
    "X_train = sm.add_constant(X_train)\n",
    "model_ols = sm.OLS(y_train, X_train).fit()\n",
    "\n",
    "d = {}\n",
    "for i in X_train.columns.tolist():\n",
    "    d[f'{i}'] = model_ols.pvalues[i]\n",
    "\n",
    "df_pvalue= pd.DataFrame(d.items(), columns=['Var_name', 'p-Value']).sort_values(by = 'p-Value').reset_index(drop=True)\n",
    "\n",
    "# df_pvalue[0:52]"
   ]
  },
  {
   "cell_type": "markdown",
   "id": "6f086a79",
   "metadata": {},
   "source": [
    "# TSNE visulization:"
   ]
  },
  {
   "cell_type": "code",
   "execution_count": 448,
   "id": "b2ad2a04",
   "metadata": {},
   "outputs": [
    {
     "data": {
      "image/png": "[encoded data removed]",
      "text/plain": [
       "<Figure size 432x288 with 1 Axes>"
      ]
     },
     "metadata": {
      "needs_background": "light"
     },
     "output_type": "display_data"
    }
   ],
   "source": [
    "# create a class for low vs. high severity (add medium if not good)\n",
    "\n",
    "# Histogram of survival_from_surgery_days\n",
    "plt.hist(clin_res['Survival_from_surgery_days'], alpha=1, label='distribution', color = \"#134f5cff\")\n",
    "plt.hist(clin_res['Survival_from_surgery_days'], bins=2, alpha=0.1, label='2 bins', color = \"#134f5cff\")\n",
    "\n",
    "# find a threshold that splits the data evenly\n",
    "avg_days = np.mean(clin_res['Survival_from_surgery_days'])\n",
    "plt.axvline(x = 890, color = \"black\", linestyle = '--')\n",
    "plt.axvline(x = 80, color = \"black\", linestyle = '--', label = 'low_high_equal')\n",
    "\n",
    "plt.legend(loc='upper right')\n",
    "plt.title(\"Survival_from_surgery_days\")\n",
    "plt.xlabel(\"days\")\n",
    "plt.ylabel(\"count\")\n",
    "plt.show()"
   ]
  },
  {
   "cell_type": "code",
   "execution_count": 465,
   "id": "41e9840c",
   "metadata": {},
   "outputs": [
    {
     "data": {
      "image/png": "[encoded data removed]",
      "text/plain": [
       "<Figure size 432x288 with 1 Axes>"
      ]
     },
     "metadata": {
      "needs_background": "light"
     },
     "output_type": "display_data"
    }
   ],
   "source": [
    "# create a class for low vs. high severity (add medium if not good)\n",
    "\n",
    "# Histogram of survival_from_surgery_days\n",
    "plt.hist(clin_res['Survival_from_surgery_days'], alpha=1, label='distribution', color = \"#134f5cff\")\n",
    "# plt.hist(clin_res['Survival_from_surgery_days'], bins=2, alpha=0.1, label='2 bins', color = \"#134f5cff\")\n",
    "\n",
    "# find a threshold that splits the data evenly\n",
    "avg_days = np.mean(clin_res['Survival_from_surgery_days'])\n",
    "plt.axvline(x = 880, color = \"black\", linestyle = '--')\n",
    "plt.axvline(x = 430, color = \"black\", linestyle = '--')\n",
    "\n",
    "# plt.legend(loc='upper right')\n",
    "plt.title(\"Survival from Surgery Days\")\n",
    "plt.xlabel(\"Days\")\n",
    "plt.ylabel(\"Count\")\n",
    "plt.show()"
   ]
  },
  {
   "cell_type": "code",
   "execution_count": 449,
   "id": "d0eaa1a4",
   "metadata": {},
   "outputs": [
    {
     "data": {
      "text/html": [
       "<div>\n",
       "<style scoped>\n",
       "    .dataframe tbody tr th:only-of-type {\n",
       "        vertical-align: middle;\n",
       "    }\n",
       "\n",
       "    .dataframe tbody tr th {\n",
       "        vertical-align: top;\n",
       "    }\n",
       "\n",
       "    .dataframe thead th {\n",
       "        text-align: right;\n",
       "    }\n",
       "</style>\n",
       "<table border=\"1\" class=\"dataframe\">\n",
       "  <thead>\n",
       "    <tr style=\"text-align: right;\">\n",
       "      <th></th>\n",
       "      <th>ID</th>\n",
       "      <th>Gender</th>\n",
       "      <th>Age_at_scan_years</th>\n",
       "      <th>Survival_from_surgery_days</th>\n",
       "      <th>IDH1</th>\n",
       "      <th>GTR_over90percent</th>\n",
       "      <th>Time_since_baseline_preop</th>\n",
       "      <th>severity_class</th>\n",
       "    </tr>\n",
       "  </thead>\n",
       "  <tbody>\n",
       "    <tr>\n",
       "      <th>0</th>\n",
       "      <td>UPENN-GBM-00002_11</td>\n",
       "      <td>F</td>\n",
       "      <td>61.30</td>\n",
       "      <td>291</td>\n",
       "      <td>Wildtype</td>\n",
       "      <td>Y</td>\n",
       "      <td>0</td>\n",
       "      <td>high</td>\n",
       "    </tr>\n",
       "    <tr>\n",
       "      <th>1</th>\n",
       "      <td>UPENN-GBM-00006_11</td>\n",
       "      <td>M</td>\n",
       "      <td>52.99</td>\n",
       "      <td>626</td>\n",
       "      <td>Wildtype</td>\n",
       "      <td>Y</td>\n",
       "      <td>0</td>\n",
       "      <td>low</td>\n",
       "    </tr>\n",
       "    <tr>\n",
       "      <th>2</th>\n",
       "      <td>UPENN-GBM-00008_11</td>\n",
       "      <td>F</td>\n",
       "      <td>55.06</td>\n",
       "      <td>469</td>\n",
       "      <td>Wildtype</td>\n",
       "      <td>Y</td>\n",
       "      <td>0</td>\n",
       "      <td>low</td>\n",
       "    </tr>\n",
       "    <tr>\n",
       "      <th>3</th>\n",
       "      <td>UPENN-GBM-00009_11</td>\n",
       "      <td>M</td>\n",
       "      <td>69.12</td>\n",
       "      <td>561</td>\n",
       "      <td>Wildtype</td>\n",
       "      <td>Y</td>\n",
       "      <td>0</td>\n",
       "      <td>low</td>\n",
       "    </tr>\n",
       "    <tr>\n",
       "      <th>4</th>\n",
       "      <td>UPENN-GBM-00011_11</td>\n",
       "      <td>F</td>\n",
       "      <td>39.61</td>\n",
       "      <td>798</td>\n",
       "      <td>NOS/NEC</td>\n",
       "      <td>Y</td>\n",
       "      <td>0</td>\n",
       "      <td>low</td>\n",
       "    </tr>\n",
       "    <tr>\n",
       "      <th>...</th>\n",
       "      <td>...</td>\n",
       "      <td>...</td>\n",
       "      <td>...</td>\n",
       "      <td>...</td>\n",
       "      <td>...</td>\n",
       "      <td>...</td>\n",
       "      <td>...</td>\n",
       "      <td>...</td>\n",
       "    </tr>\n",
       "    <tr>\n",
       "      <th>419</th>\n",
       "      <td>UPENN-GBM-00593_11</td>\n",
       "      <td>M</td>\n",
       "      <td>57.82</td>\n",
       "      <td>223</td>\n",
       "      <td>Wildtype</td>\n",
       "      <td>N</td>\n",
       "      <td>0</td>\n",
       "      <td>high</td>\n",
       "    </tr>\n",
       "    <tr>\n",
       "      <th>420</th>\n",
       "      <td>UPENN-GBM-00597_11</td>\n",
       "      <td>F</td>\n",
       "      <td>61.92</td>\n",
       "      <td>381</td>\n",
       "      <td>Wildtype</td>\n",
       "      <td>Y</td>\n",
       "      <td>0</td>\n",
       "      <td>high</td>\n",
       "    </tr>\n",
       "    <tr>\n",
       "      <th>421</th>\n",
       "      <td>UPENN-GBM-00601_11</td>\n",
       "      <td>M</td>\n",
       "      <td>59.69</td>\n",
       "      <td>435</td>\n",
       "      <td>Wildtype</td>\n",
       "      <td>Y</td>\n",
       "      <td>0</td>\n",
       "      <td>low</td>\n",
       "    </tr>\n",
       "    <tr>\n",
       "      <th>422</th>\n",
       "      <td>UPENN-GBM-00609_11</td>\n",
       "      <td>M</td>\n",
       "      <td>29.01</td>\n",
       "      <td>138</td>\n",
       "      <td>Wildtype</td>\n",
       "      <td>N</td>\n",
       "      <td>0</td>\n",
       "      <td>high</td>\n",
       "    </tr>\n",
       "    <tr>\n",
       "      <th>423</th>\n",
       "      <td>UPENN-GBM-00611_11</td>\n",
       "      <td>M</td>\n",
       "      <td>58.09</td>\n",
       "      <td>551</td>\n",
       "      <td>Wildtype</td>\n",
       "      <td>N</td>\n",
       "      <td>0</td>\n",
       "      <td>low</td>\n",
       "    </tr>\n",
       "  </tbody>\n",
       "</table>\n",
       "<p>424 rows × 8 columns</p>\n",
       "</div>"
      ],
      "text/plain": [
       "                     ID Gender  Age_at_scan_years  Survival_from_surgery_days  \\\n",
       "0    UPENN-GBM-00002_11      F              61.30                         291   \n",
       "1    UPENN-GBM-00006_11      M              52.99                         626   \n",
       "2    UPENN-GBM-00008_11      F              55.06                         469   \n",
       "3    UPENN-GBM-00009_11      M              69.12                         561   \n",
       "4    UPENN-GBM-00011_11      F              39.61                         798   \n",
       "..                  ...    ...                ...                         ...   \n",
       "419  UPENN-GBM-00593_11      M              57.82                         223   \n",
       "420  UPENN-GBM-00597_11      F              61.92                         381   \n",
       "421  UPENN-GBM-00601_11      M              59.69                         435   \n",
       "422  UPENN-GBM-00609_11      M              29.01                         138   \n",
       "423  UPENN-GBM-00611_11      M              58.09                         551   \n",
       "\n",
       "         IDH1 GTR_over90percent  Time_since_baseline_preop severity_class  \n",
       "0    Wildtype                 Y                          0           high  \n",
       "1    Wildtype                 Y                          0            low  \n",
       "2    Wildtype                 Y                          0            low  \n",
       "3    Wildtype                 Y                          0            low  \n",
       "4     NOS/NEC                 Y                          0            low  \n",
       "..        ...               ...                        ...            ...  \n",
       "419  Wildtype                 N                          0           high  \n",
       "420  Wildtype                 Y                          0           high  \n",
       "421  Wildtype                 Y                          0            low  \n",
       "422  Wildtype                 N                          0           high  \n",
       "423  Wildtype                 N                          0            low  \n",
       "\n",
       "[424 rows x 8 columns]"
      ]
     },
     "execution_count": 449,
     "metadata": {},
     "output_type": "execute_result"
    }
   ],
   "source": [
    "clin_res"
   ]
  },
  {
   "cell_type": "code",
   "execution_count": 347,
   "id": "8c203ab7",
   "metadata": {},
   "outputs": [],
   "source": [
    "# low is 0, medium is 1, high is 2\n",
    "low = np.where(comb_data_new['Survival_from_surgery_days'] > 890)\n",
    "# medium = np.where((comb_data_new['Survival_from_surgery_days'] > 435) & (comb_data_new['Survival_from_surgery_days'] <= 875))\n",
    "high = np.where(comb_data_new['Survival_from_surgery_days'] <= 60)"
   ]
  },
  {
   "cell_type": "code",
   "execution_count": 349,
   "id": "5e34087c",
   "metadata": {},
   "outputs": [
    {
     "data": {
      "text/plain": [
       "28"
      ]
     },
     "execution_count": 349,
     "metadata": {},
     "output_type": "execute_result"
    }
   ],
   "source": [
    "len(low[0])"
   ]
  },
  {
   "cell_type": "code",
   "execution_count": 350,
   "id": "1c994c9b",
   "metadata": {},
   "outputs": [],
   "source": [
    "comb_data_new.loc[comb_data_new.index[low], 'severity_class'] = 0\n",
    "# comb_data_new.loc[comb_data_new.index[medium], 'severity_class'] = 1\n",
    "comb_data_new.loc[comb_data_new.index[high], 'severity_class'] = 2"
   ]
  },
  {
   "cell_type": "code",
   "execution_count": 352,
   "id": "f4722ff5",
   "metadata": {},
   "outputs": [],
   "source": [
    "X_rem = comb_data_new.loc[:, comb_data_new.columns != \"severity_class\"]\n",
    "\n",
    "X_all = X_rem.loc[:, X_rem.columns != 'Survival_from_surgery_days']\n",
    "y_all = comb_data_new['severity_class']"
   ]
  },
  {
   "cell_type": "code",
   "execution_count": 320,
   "id": "0948b484",
   "metadata": {},
   "outputs": [],
   "source": [
    "def plot_tsne(n, X_data, y_data, title):\n",
    "    n_components = n\n",
    "    tsne = TSNE(n_components)\n",
    "    tsne_result = tsne.fit_transform(X_data)\n",
    "    \n",
    "    tsne_result_df = pd.DataFrame({'tsne_1': tsne_result[:,1], 'tsne_2': tsne_result[:,2], 'label': y_data})\n",
    "    fig, ax = plt.subplots(1)\n",
    "    sns.scatterplot(x='tsne_1', y='tsne_2', hue='label', data=tsne_result_df, ax=ax,s=10, palette = \"tab10\")\n",
    "    lim = (tsne_result.min()-5, tsne_result.max()+5)\n",
    "    ax.set_xlim(lim)\n",
    "    ax.set_ylim(lim)\n",
    "    ax.set_aspect('equal')\n",
    "    ax.legend(bbox_to_anchor=(1.05, 1), loc=2, borderaxespad=0.0)\n",
    "    plt.title(title)"
   ]
  },
  {
   "cell_type": "code",
   "execution_count": 353,
   "id": "3d025374",
   "metadata": {},
   "outputs": [
    {
     "data": {
      "text/plain": [
       "(310, 3)"
      ]
     },
     "execution_count": 353,
     "metadata": {},
     "output_type": "execute_result"
    }
   ],
   "source": [
    "n_components = 3\n",
    "tsne = TSNE(n_components)\n",
    "tsne_result = tsne.fit_transform(X_all)\n",
    "tsne_result.shape"
   ]
  },
  {
   "cell_type": "code",
   "execution_count": 333,
   "id": "9abd6157",
   "metadata": {},
   "outputs": [],
   "source": [
    "from matplotlib import rcParams\n",
    "rcParams['figure.figsize'] = 6,4"
   ]
  },
  {
   "cell_type": "code",
   "execution_count": 354,
   "id": "4e83e01d",
   "metadata": {},
   "outputs": [
    {
     "data": {
      "text/plain": [
       "Text(0.5, 1.0, 'TSNE (all features)')"
      ]
     },
     "execution_count": 354,
     "metadata": {},
     "output_type": "execute_result"
    },
    {
     "data": {
      "image/png": "[encoded data removed]",
      "text/plain": [
       "<Figure size 432x288 with 1 Axes>"
      ]
     },
     "metadata": {
      "needs_background": "light"
     },
     "output_type": "display_data"
    }
   ],
   "source": [
    "tsne_result_df = pd.DataFrame({'tsne_1': tsne_result[:,1], 'tsne_2': tsne_result[:,2], 'label': y_all})\n",
    "fig, ax = plt.subplots(1)\n",
    "sns.scatterplot(x='tsne_1', y='tsne_2', hue='label', data=tsne_result_df, ax=ax,s=30, palette = \"tab10\")\n",
    "lim = (tsne_result.min()-5, tsne_result.max()+5)\n",
    "ax.set_xlim(lim)\n",
    "ax.set_ylim(lim)\n",
    "ax.set_aspect('equal')\n",
    "ax.legend(bbox_to_anchor=(1.05, 1), loc=2, borderaxespad=0.0)\n",
    "plt.title(\"TSNE (all features)\")"
   ]
  },
  {
   "cell_type": "code",
   "execution_count": null,
   "id": "7b36b7b0",
   "metadata": {},
   "outputs": [],
   "source": [
    "# only look at 0 and 2 -- "
   ]
  },
  {
   "cell_type": "markdown",
   "id": "2c973a32",
   "metadata": {},
   "source": [
    "# PCA: "
   ]
  },
  {
   "cell_type": "code",
   "execution_count": 400,
   "id": "013fdf34",
   "metadata": {},
   "outputs": [],
   "source": [
    "def plot_PCA(X_data, y_data, title):\n",
    "    pca = PCA()\n",
    "    Xt = pca.fit_transform(X_data)\n",
    "    plt.scatter(Xt[:,0], Xt[:,1], c=y_data, cmap='Paired')\n",
    "    direction = pca.components_[0]\n",
    "    # plt.plot([0, direction[0]], [0, direction[1]], 'k-', linewidth=2) # plot best separation line\n",
    "    plt.title(title)\n",
    "    plt.xlabel(\"PC 1\")\n",
    "    plt.ylabel(\"PC 2\")\n",
    "    # plt.legend(handles=plot.legend_elements()[0], labels=y_data)\n",
    "    plt.show()"
   ]
  },
  {
   "cell_type": "code",
   "execution_count": 397,
   "id": "c5517897",
   "metadata": {},
   "outputs": [
    {
     "data": {
      "image/png": "[encoded data removed]",
      "text/plain": [
       "<Figure size 432x288 with 1 Axes>"
      ]
     },
     "metadata": {
      "needs_background": "light"
     },
     "output_type": "display_data"
    }
   ],
   "source": [
    "plot_PCA(X_all, y_all, \"PCA (all features)\")"
   ]
  },
  {
   "cell_type": "code",
   "execution_count": 401,
   "id": "9494b751",
   "metadata": {},
   "outputs": [
    {
     "data": {
      "image/png": "[encoded data removed]",
      "text/plain": [
       "<Figure size 432x288 with 1 Axes>"
      ]
     },
     "metadata": {
      "needs_background": "light"
     },
     "output_type": "display_data"
    }
   ],
   "source": [
    "plot_PCA(X_RFE, y_all, \"PCA (RFE features)\")"
   ]
  },
  {
   "cell_type": "code",
   "execution_count": 357,
   "id": "2700df71",
   "metadata": {},
   "outputs": [],
   "source": [
    "tree_features = ['DSC_ap-rCBV_ED_Morphologic_LargestComponentSize', \n",
    "            'IDH1', 'DSC_ap-rCBV_ED_Histogram_Bins-16_Bins-16_Median',\n",
    "            'DSC_ap-rCBV_ED_Histogram_Bins-16_Bins-16_Minimum',\n",
    "            'DSC_ap-rCBV_ED_GLCM_Bins-16_Radius-1_AutoCorrelation',\n",
    "            'DSC_ap-rCBV_ED_Intensity_Median']\n",
    "X_tree = X_all[tree_features]"
   ]
  },
  {
   "cell_type": "code",
   "execution_count": 399,
   "id": "f352ecbf",
   "metadata": {},
   "outputs": [
    {
     "data": {
      "image/png": "[encoded data removed]",
      "text/plain": [
       "<Figure size 432x288 with 1 Axes>"
      ]
     },
     "metadata": {
      "needs_background": "light"
     },
     "output_type": "display_data"
    }
   ],
   "source": [
    "plot_PCA(X_tree, y_all, \"PCA (tree features)\")"
   ]
  },
  {
   "cell_type": "code",
   "execution_count": 403,
   "id": "23678460",
   "metadata": {},
   "outputs": [],
   "source": [
    "lasso_features = ['DSC_ap-rCBV_ED_NGTDM_Complexity',\n",
    "            'DSC_ap-rCBV_ED_GLCM_Bins-16_Radius-1_ClusterProminence',\n",
    "            'DSC_ap-rCBV_ED_Intensity_Variance',\n",
    "            'DSC_ap-rCBV_ED_Histogram_Bins-16_Bins-16_Bin-2_Frequency',\n",
    "            'DSC_ap-rCBV_ED_Histogram_Bins-16_Bins-16_Bin-0_Frequency']\n",
    "X_lasso = X_all[lasso_features]"
   ]
  },
  {
   "cell_type": "code",
   "execution_count": 404,
   "id": "6c2952fa",
   "metadata": {},
   "outputs": [
    {
     "data": {
      "image/png": "[encoded data removed]",
      "text/plain": [
       "<Figure size 432x288 with 1 Axes>"
      ]
     },
     "metadata": {
      "needs_background": "light"
     },
     "output_type": "display_data"
    }
   ],
   "source": [
    "plot_PCA(X_lasso, y_all, \"PCA (LASSO features)\")"
   ]
  },
  {
   "cell_type": "code",
   "execution_count": 405,
   "id": "046703ea",
   "metadata": {},
   "outputs": [],
   "source": [
    "ttest_features = ['Age_at_scan_years',\n",
    " 'DSC_ap-rCBV_ED_Morphologic_EllipseDiameter_Axis-2',\n",
    " 'DSC_ap-rCBV_ED_Morphologic_Elongation',\n",
    " 'DSC_ap-rCBV_ED_Morphologic_Flatness',\n",
    " 'DSC_ap-rCBV_ED_Morphologic_EllipseDiameter_Axis-1',\n",
    " 'DSC_ap-rCBV_ED_Morphologic_EquivalentSphericalRadius',\n",
    " 'DSC_ap-rCBV_ED_Morphologic_EllipseDiameter_Axis-0',\n",
    " 'DSC_ap-rCBV_ED_GLSZM_Bins-16_Radius-1_SmallZoneLowGreyLevelEmphasis',\n",
    " 'DSC_ap-rCBV_ED_Intensity_StandardDeviation',\n",
    " 'DSC_ap-rCBV_ED_Histogram_Bins-16_Bins-16_Bin-13_Frequency',\n",
    " 'DSC_ap-rCBV_ED_Intensity_Range',\n",
    " 'DSC_ap-rCBV_ED_NGTDM_Strength',\n",
    " 'DSC_ap-rCBV_ED_Histogram_Bins-16_Bins-16_Bin-9_Frequency',\n",
    " 'DSC_ap-rCBV_ED_Histogram_Bins-16_Bins-16_Skewness',\n",
    " 'DSC_ap-rCBV_ED_Intensity_Median',\n",
    " 'DSC_ap-rCBV_ED_Histogram_Bins-16_Bins-16_Bin-11_Frequency',\n",
    " 'DSC_ap-rCBV_ED_Morphologic_PerimeterOnBorderRatio',\n",
    " 'DSC_ap-rCBV_ED_NGTDM_Coarsness',\n",
    " 'DSC_ap-rCBV_ED_Histogram_Bins-16_Bins-16_Bin-7_Frequency',\n",
    " 'Time_since_baseline_preop',\n",
    " 'DSC_ap-rCBV_ED_Morphologic_LargestComponentSize',\n",
    " 'DSC_ap-rCBV_ED_Morphologic_PixelsOnBorder',\n",
    " 'DSC_ap-rCBV_ED_Morphologic_NumberOfPixels',\n",
    " 'DSC_ap-rCBV_ED_Morphologic_OrientedBoundingBoxSize_Axis-0',\n",
    " 'DSC_ap-rCBV_ED_Histogram_Bins-16_Bins-16_Bin-1_Frequency',\n",
    " 'DSC_ap-rCBV_ED_Histogram_Bins-16_Bins-16_MeanAbsoluteDeviation',\n",
    " 'DSC_ap-rCBV_ED_Morphologic_PhysicalSize',\n",
    " 'DSC_ap-rCBV_ED_Morphologic_OrientedBoundingBoxSize_Axis-2',\n",
    " 'DSC_ap-rCBV_ED_Histogram_Bins-16_Bins-16_Minimum',\n",
    " 'DSC_ap-rCBV_ED_Histogram_Bins-16_Bins-16_Bin-2_Frequency',\n",
    " 'DSC_ap-rCBV_ED_Intensity_MeanAbsoluteDeviation',\n",
    " 'DSC_ap-rCBV_ED_Morphologic_PerimeterOnBorder',\n",
    " 'DSC_ap-rCBV_ED_Morphologic_OrientedBoundingBoxSize_Axis-1',\n",
    " 'DSC_ap-rCBV_ED_Volumetric_Volume',\n",
    " 'DSC_ap-rCBV_ED_Volumetric_Pixels',\n",
    " 'DSC_ap-rCBV_ED_Histogram_Bins-16_Bins-16_Bin-0_Frequency',\n",
    " 'DSC_ap-rCBV_ED_Histogram_Bins-16_Bins-16_Bin-3_Frequency',\n",
    " 'DSC_ap-rCBV_ED_Intensity_Maximum',\n",
    " 'DSC_ap-rCBV_ED_Histogram_Bins-16_Bins-16_Bin-8_Frequency',\n",
    " 'DSC_ap-rCBV_ED_Histogram_Bins-16_Bins-16_Sum',\n",
    " 'DSC_ap-rCBV_ED_Histogram_Bins-16_Bins-16_Bin-5_Frequency',\n",
    " 'DSC_ap-rCBV_ED_Histogram_Bins-16_Bins-16_Bin-15_Frequency',\n",
    " 'DSC_ap-rCBV_ED_Histogram_Bins-16_Bins-16_Bin-10_Frequency',\n",
    " 'DSC_ap-rCBV_ED_Intensity_Minimum',\n",
    " 'DSC_ap-rCBV_ED_Histogram_Bins-16_Bins-16_Bin-6_Frequency',\n",
    " 'DSC_ap-rCBV_ED_GLSZM_Bins-16_Radius-1_LargeZoneHighGreyLevelEmphasis',\n",
    " 'DSC_ap-rCBV_ED_GLSZM_Bins-16_Radius-1_ZoneSizeMean',\n",
    " 'DSC_ap-rCBV_ED_Intensity_Skewness',\n",
    " 'DSC_ap-rCBV_ED_Intensity_MedianAbsoluteDeviation',\n",
    " 'DSC_ap-rCBV_ED_Morphologic_Eccentricity',\n",
    " 'DSC_ap-rCBV_ED_Histogram_Bins-16_Bins-16_Bin-5_Probability',\n",
    " 'DSC_ap-rCBV_ED_Histogram_Bins-16_Bins-16_Energy']\n",
    "\n",
    "X_ttest = X_all[ttest_features]"
   ]
  },
  {
   "cell_type": "code",
   "execution_count": 406,
   "id": "93a302bc",
   "metadata": {},
   "outputs": [
    {
     "data": {
      "image/png": "[encoded data removed]",
      "text/plain": [
       "<Figure size 432x288 with 1 Axes>"
      ]
     },
     "metadata": {
      "needs_background": "light"
     },
     "output_type": "display_data"
    }
   ],
   "source": [
    "plot_PCA(X_ttest, y_all, \"PCA (T-test features)\")"
   ]
  },
  {
   "cell_type": "code",
   "execution_count": 454,
   "id": "c005b6cd",
   "metadata": {},
   "outputs": [],
   "source": [
    "X_ridge = X_all[ridge_features]"
   ]
  },
  {
   "cell_type": "code",
   "execution_count": 455,
   "id": "f023b27b",
   "metadata": {},
   "outputs": [
    {
     "data": {
      "image/png": "[encoded data removed]",
      "text/plain": [
       "<Figure size 432x288 with 1 Axes>"
      ]
     },
     "metadata": {
      "needs_background": "light"
     },
     "output_type": "display_data"
    }
   ],
   "source": [
    "plot_PCA(X_ridge, y_all, \"PCA (Ridge features)\")"
   ]
  },
  {
   "cell_type": "code",
   "execution_count": 456,
   "id": "358140dc",
   "metadata": {},
   "outputs": [
    {
     "data": {
      "image/png": "[encoded data removed]",
      "text/plain": [
       "<Figure size 432x288 with 1 Axes>"
      ]
     },
     "metadata": {
      "needs_background": "light"
     },
     "output_type": "display_data"
    }
   ],
   "source": [
    "X_SFS = X_all[SFS_features]\n",
    "plot_PCA(X_SFS, y_all, \"PCA (SFS features)\")"
   ]
  }
 ],
 "metadata": {
  "kernelspec": {
   "display_name": "Python 3 (ipykernel)",
   "language": "python",
   "name": "python3"
  },
  "language_info": {
   "codemirror_mode": {
    "name": "ipython",
    "version": 3
   },
   "file_extension": ".py",
   "mimetype": "text/x-python",
   "name": "python",
   "nbconvert_exporter": "python",
   "pygments_lexer": "ipython3",
   "version": "3.10.9"
  }
 },
 "nbformat": 4,
 "nbformat_minor": 5
}
